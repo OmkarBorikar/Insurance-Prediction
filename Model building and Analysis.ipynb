{
 "cells": [
  {
   "cell_type": "markdown",
   "id": "1510f6f6",
   "metadata": {
    "execution": {
     "iopub.execute_input": "2021-11-22T14:28:28.816287Z",
     "iopub.status.busy": "2021-11-22T14:28:28.815778Z",
     "iopub.status.idle": "2021-11-22T14:28:28.823710Z",
     "shell.execute_reply": "2021-11-22T14:28:28.822431Z",
     "shell.execute_reply.started": "2021-11-22T14:28:28.816221Z"
    },
    "papermill": {
     "duration": 0.037804,
     "end_time": "2021-11-22T17:20:14.629535",
     "exception": false,
     "start_time": "2021-11-22T17:20:14.591731",
     "status": "completed"
    },
    "tags": []
   },
   "source": [
    "# Plan of Attack\n",
    "\n",
    "* Dataset contains 7 columns as follows\n",
    "\n",
    " - age: age of primary beneficiary\n",
    "\n",
    " - sex: insurance contractor gender, female, male\n",
    "\n",
    " - bmi: Body mass index, providing an understanding of body, weights that are relatively high or low relative to height,\n",
    " - objective index of body weight (kg / m ^ 2) using the ratio of height to weight, ideally 18.5 to 24.9\n",
    "\n",
    " - children: Number of children covered by health insurance / Number of dependents\n",
    "\n",
    " - smoker: Smoking\n",
    "\n",
    " - region: the beneficiary's residential area in the US, northeast, southeast, southwest, northwest.\n",
    "\n",
    " - charges: Individual medical costs billed by health insurance\n",
    "\n",
    "* Our aim is to predict medical cost of patient given his/her details like age, sex, bmi and so on. This model will be useful to insurance company to predict the medical cost they might need to pay while giving insurance to customer.\n",
    "\n",
    "* In this notebook \n",
    "\n",
    "1. We are going to make analysis of each feature and its relation with target variable which is 'charges'.\n",
    "2. We will be trying various regression models like LinearRegression , RandomForestRegressor , XGBOOST , CatBoost , LightGBM etc.\n",
    "3. We will be using Optuna to fine tune the hyperparametrs of our model.\n",
    "4. Finally, blending top 3 models based on R2_Score.\n"
   ]
  },
  {
   "cell_type": "markdown",
   "id": "460f808e",
   "metadata": {
    "papermill": {
     "duration": 0.036113,
     "end_time": "2021-11-22T17:20:14.702343",
     "exception": false,
     "start_time": "2021-11-22T17:20:14.666230",
     "status": "completed"
    },
    "tags": []
   },
   "source": [
    "# Importing required libraries and dataset."
   ]
  },
  {
   "cell_type": "code",
   "execution_count": 1,
   "id": "20c7b724",
   "metadata": {
    "execution": {
     "iopub.execute_input": "2021-11-22T17:20:14.786343Z",
     "iopub.status.busy": "2021-11-22T17:20:14.785514Z",
     "iopub.status.idle": "2021-11-22T17:20:17.171495Z",
     "shell.execute_reply": "2021-11-22T17:20:17.170719Z",
     "shell.execute_reply.started": "2021-11-22T16:57:00.802234Z"
    },
    "papermill": {
     "duration": 2.432628,
     "end_time": "2021-11-22T17:20:17.171710",
     "exception": false,
     "start_time": "2021-11-22T17:20:14.739082",
     "status": "completed"
    },
    "tags": []
   },
   "outputs": [],
   "source": [
    "import pandas as pd\n",
    "import numpy as np\n",
    "import matplotlib.pyplot as plt\n",
    "import seaborn as sns\n",
    "from sklearn.preprocessing import StandardScaler,OneHotEncoder\n",
    "from sklearn.compose import ColumnTransformer\n",
    "from sklearn.pipeline import Pipeline\n",
    "from sklearn.linear_model import LinearRegression\n",
    "from sklearn.model_selection import train_test_split\n",
    "from sklearn.ensemble import RandomForestRegressor\n",
    "from sklearn.metrics import r2_score\n",
    "import xgboost as xgb\n",
    "from sklearn.svm import SVR\n",
    "from sklearn.tree import DecisionTreeRegressor\n",
    "import catboost as cb\n",
    "import lightgbm as lgb"
   ]
  },
  {
   "cell_type": "markdown",
   "id": "3306565f",
   "metadata": {
    "papermill": {
     "duration": 0.037014,
     "end_time": "2021-11-22T17:20:17.247408",
     "exception": false,
     "start_time": "2021-11-22T17:20:17.210394",
     "status": "completed"
    },
    "tags": []
   },
   "source": [
    "# Exploratory Data Analysis"
   ]
  },
  {
   "cell_type": "code",
   "execution_count": 2,
   "id": "6a7e1455",
   "metadata": {
    "execution": {
     "iopub.execute_input": "2021-11-22T17:20:17.327434Z",
     "iopub.status.busy": "2021-11-22T17:20:17.326607Z",
     "iopub.status.idle": "2021-11-22T17:20:17.352846Z",
     "shell.execute_reply": "2021-11-22T17:20:17.352313Z",
     "shell.execute_reply.started": "2021-11-22T16:57:02.191615Z"
    },
    "papermill": {
     "duration": 0.066747,
     "end_time": "2021-11-22T17:20:17.353027",
     "exception": false,
     "start_time": "2021-11-22T17:20:17.286280",
     "status": "completed"
    },
    "tags": []
   },
   "outputs": [],
   "source": [
    "df = pd.read_csv('insurance.csv')"
   ]
  },
  {
   "cell_type": "code",
   "execution_count": 3,
   "id": "5e647bc0",
   "metadata": {
    "execution": {
     "iopub.execute_input": "2021-11-22T17:20:17.501144Z",
     "iopub.status.busy": "2021-11-22T17:20:17.500391Z",
     "iopub.status.idle": "2021-11-22T17:20:17.521371Z",
     "shell.execute_reply": "2021-11-22T17:20:17.520550Z",
     "shell.execute_reply.started": "2021-11-22T16:57:02.205006Z"
    },
    "papermill": {
     "duration": 0.130973,
     "end_time": "2021-11-22T17:20:17.521566",
     "exception": false,
     "start_time": "2021-11-22T17:20:17.390593",
     "status": "completed"
    },
    "tags": []
   },
   "outputs": [
    {
     "data": {
      "text/html": [
       "<div>\n",
       "<style scoped>\n",
       "    .dataframe tbody tr th:only-of-type {\n",
       "        vertical-align: middle;\n",
       "    }\n",
       "\n",
       "    .dataframe tbody tr th {\n",
       "        vertical-align: top;\n",
       "    }\n",
       "\n",
       "    .dataframe thead th {\n",
       "        text-align: right;\n",
       "    }\n",
       "</style>\n",
       "<table border=\"1\" class=\"dataframe\">\n",
       "  <thead>\n",
       "    <tr style=\"text-align: right;\">\n",
       "      <th></th>\n",
       "      <th>age</th>\n",
       "      <th>sex</th>\n",
       "      <th>bmi</th>\n",
       "      <th>children</th>\n",
       "      <th>smoker</th>\n",
       "      <th>region</th>\n",
       "      <th>charges</th>\n",
       "    </tr>\n",
       "  </thead>\n",
       "  <tbody>\n",
       "    <tr>\n",
       "      <th>0</th>\n",
       "      <td>19</td>\n",
       "      <td>female</td>\n",
       "      <td>27.900</td>\n",
       "      <td>0</td>\n",
       "      <td>yes</td>\n",
       "      <td>southwest</td>\n",
       "      <td>16884.92400</td>\n",
       "    </tr>\n",
       "    <tr>\n",
       "      <th>1</th>\n",
       "      <td>18</td>\n",
       "      <td>male</td>\n",
       "      <td>33.770</td>\n",
       "      <td>1</td>\n",
       "      <td>no</td>\n",
       "      <td>southeast</td>\n",
       "      <td>1725.55230</td>\n",
       "    </tr>\n",
       "    <tr>\n",
       "      <th>2</th>\n",
       "      <td>28</td>\n",
       "      <td>male</td>\n",
       "      <td>33.000</td>\n",
       "      <td>3</td>\n",
       "      <td>no</td>\n",
       "      <td>southeast</td>\n",
       "      <td>4449.46200</td>\n",
       "    </tr>\n",
       "    <tr>\n",
       "      <th>3</th>\n",
       "      <td>33</td>\n",
       "      <td>male</td>\n",
       "      <td>22.705</td>\n",
       "      <td>0</td>\n",
       "      <td>no</td>\n",
       "      <td>northwest</td>\n",
       "      <td>21984.47061</td>\n",
       "    </tr>\n",
       "    <tr>\n",
       "      <th>4</th>\n",
       "      <td>32</td>\n",
       "      <td>male</td>\n",
       "      <td>28.880</td>\n",
       "      <td>0</td>\n",
       "      <td>no</td>\n",
       "      <td>northwest</td>\n",
       "      <td>3866.85520</td>\n",
       "    </tr>\n",
       "  </tbody>\n",
       "</table>\n",
       "</div>"
      ],
      "text/plain": [
       "   age     sex     bmi  children smoker     region      charges\n",
       "0   19  female  27.900         0    yes  southwest  16884.92400\n",
       "1   18    male  33.770         1     no  southeast   1725.55230\n",
       "2   28    male  33.000         3     no  southeast   4449.46200\n",
       "3   33    male  22.705         0     no  northwest  21984.47061\n",
       "4   32    male  28.880         0     no  northwest   3866.85520"
      ]
     },
     "execution_count": 3,
     "metadata": {},
     "output_type": "execute_result"
    }
   ],
   "source": [
    "df.head()"
   ]
  },
  {
   "cell_type": "markdown",
   "id": "efbdb7ae",
   "metadata": {
    "papermill": {
     "duration": 0.037671,
     "end_time": "2021-11-22T17:20:17.609879",
     "exception": false,
     "start_time": "2021-11-22T17:20:17.572208",
     "status": "completed"
    },
    "tags": []
   },
   "source": [
    "There are 3 categorical features in this dataset - Sex, Smoker and region. Rest of the columns are numeric features."
   ]
  },
  {
   "cell_type": "code",
   "execution_count": 4,
   "id": "5d474b75",
   "metadata": {
    "execution": {
     "iopub.execute_input": "2021-11-22T17:20:17.695016Z",
     "iopub.status.busy": "2021-11-22T17:20:17.694091Z",
     "iopub.status.idle": "2021-11-22T17:20:17.698565Z",
     "shell.execute_reply": "2021-11-22T17:20:17.699321Z",
     "shell.execute_reply.started": "2021-11-22T16:57:02.226254Z"
    },
    "papermill": {
     "duration": 0.045955,
     "end_time": "2021-11-22T17:20:17.699555",
     "exception": false,
     "start_time": "2021-11-22T17:20:17.653600",
     "status": "completed"
    },
    "tags": []
   },
   "outputs": [
    {
     "data": {
      "text/plain": [
       "(1338, 7)"
      ]
     },
     "execution_count": 4,
     "metadata": {},
     "output_type": "execute_result"
    }
   ],
   "source": [
    "df.shape\n"
   ]
  },
  {
   "cell_type": "code",
   "execution_count": 5,
   "id": "4b52f483",
   "metadata": {
    "execution": {
     "iopub.execute_input": "2021-11-22T17:20:17.791701Z",
     "iopub.status.busy": "2021-11-22T17:20:17.790790Z",
     "iopub.status.idle": "2021-11-22T17:20:17.823303Z",
     "shell.execute_reply": "2021-11-22T17:20:17.823937Z",
     "shell.execute_reply.started": "2021-11-22T16:57:02.234994Z"
    },
    "papermill": {
     "duration": 0.08171,
     "end_time": "2021-11-22T17:20:17.824168",
     "exception": false,
     "start_time": "2021-11-22T17:20:17.742458",
     "status": "completed"
    },
    "tags": []
   },
   "outputs": [
    {
     "data": {
      "text/html": [
       "<div>\n",
       "<style scoped>\n",
       "    .dataframe tbody tr th:only-of-type {\n",
       "        vertical-align: middle;\n",
       "    }\n",
       "\n",
       "    .dataframe tbody tr th {\n",
       "        vertical-align: top;\n",
       "    }\n",
       "\n",
       "    .dataframe thead th {\n",
       "        text-align: right;\n",
       "    }\n",
       "</style>\n",
       "<table border=\"1\" class=\"dataframe\">\n",
       "  <thead>\n",
       "    <tr style=\"text-align: right;\">\n",
       "      <th></th>\n",
       "      <th>age</th>\n",
       "      <th>bmi</th>\n",
       "      <th>children</th>\n",
       "      <th>charges</th>\n",
       "    </tr>\n",
       "  </thead>\n",
       "  <tbody>\n",
       "    <tr>\n",
       "      <th>count</th>\n",
       "      <td>1338.000000</td>\n",
       "      <td>1338.000000</td>\n",
       "      <td>1338.000000</td>\n",
       "      <td>1338.000000</td>\n",
       "    </tr>\n",
       "    <tr>\n",
       "      <th>mean</th>\n",
       "      <td>39.207025</td>\n",
       "      <td>30.663397</td>\n",
       "      <td>1.094918</td>\n",
       "      <td>13270.422265</td>\n",
       "    </tr>\n",
       "    <tr>\n",
       "      <th>std</th>\n",
       "      <td>14.049960</td>\n",
       "      <td>6.098187</td>\n",
       "      <td>1.205493</td>\n",
       "      <td>12110.011237</td>\n",
       "    </tr>\n",
       "    <tr>\n",
       "      <th>min</th>\n",
       "      <td>18.000000</td>\n",
       "      <td>15.960000</td>\n",
       "      <td>0.000000</td>\n",
       "      <td>1121.873900</td>\n",
       "    </tr>\n",
       "    <tr>\n",
       "      <th>25%</th>\n",
       "      <td>27.000000</td>\n",
       "      <td>26.296250</td>\n",
       "      <td>0.000000</td>\n",
       "      <td>4740.287150</td>\n",
       "    </tr>\n",
       "    <tr>\n",
       "      <th>50%</th>\n",
       "      <td>39.000000</td>\n",
       "      <td>30.400000</td>\n",
       "      <td>1.000000</td>\n",
       "      <td>9382.033000</td>\n",
       "    </tr>\n",
       "    <tr>\n",
       "      <th>75%</th>\n",
       "      <td>51.000000</td>\n",
       "      <td>34.693750</td>\n",
       "      <td>2.000000</td>\n",
       "      <td>16639.912515</td>\n",
       "    </tr>\n",
       "    <tr>\n",
       "      <th>max</th>\n",
       "      <td>64.000000</td>\n",
       "      <td>53.130000</td>\n",
       "      <td>5.000000</td>\n",
       "      <td>63770.428010</td>\n",
       "    </tr>\n",
       "  </tbody>\n",
       "</table>\n",
       "</div>"
      ],
      "text/plain": [
       "               age          bmi     children       charges\n",
       "count  1338.000000  1338.000000  1338.000000   1338.000000\n",
       "mean     39.207025    30.663397     1.094918  13270.422265\n",
       "std      14.049960     6.098187     1.205493  12110.011237\n",
       "min      18.000000    15.960000     0.000000   1121.873900\n",
       "25%      27.000000    26.296250     0.000000   4740.287150\n",
       "50%      39.000000    30.400000     1.000000   9382.033000\n",
       "75%      51.000000    34.693750     2.000000  16639.912515\n",
       "max      64.000000    53.130000     5.000000  63770.428010"
      ]
     },
     "execution_count": 5,
     "metadata": {},
     "output_type": "execute_result"
    }
   ],
   "source": [
    "df.describe()\n"
   ]
  },
  {
   "cell_type": "code",
   "execution_count": 6,
   "id": "80d498ee",
   "metadata": {
    "execution": {
     "iopub.execute_input": "2021-11-22T17:20:17.915310Z",
     "iopub.status.busy": "2021-11-22T17:20:17.914363Z",
     "iopub.status.idle": "2021-11-22T17:20:17.922242Z",
     "shell.execute_reply": "2021-11-22T17:20:17.922779Z",
     "shell.execute_reply.started": "2021-11-22T16:57:02.266824Z"
    },
    "papermill": {
     "duration": 0.050875,
     "end_time": "2021-11-22T17:20:17.922991",
     "exception": false,
     "start_time": "2021-11-22T17:20:17.872116",
     "status": "completed"
    },
    "tags": []
   },
   "outputs": [
    {
     "data": {
      "text/plain": [
       "age         0\n",
       "sex         0\n",
       "bmi         0\n",
       "children    0\n",
       "smoker      0\n",
       "region      0\n",
       "charges     0\n",
       "dtype: int64"
      ]
     },
     "execution_count": 6,
     "metadata": {},
     "output_type": "execute_result"
    }
   ],
   "source": [
    "df.isnull().sum()\n"
   ]
  },
  {
   "cell_type": "markdown",
   "id": "26edacc4",
   "metadata": {
    "papermill": {
     "duration": 0.038925,
     "end_time": "2021-11-22T17:20:18.001761",
     "exception": false,
     "start_time": "2021-11-22T17:20:17.962836",
     "status": "completed"
    },
    "tags": []
   },
   "source": [
    "**Yay !! No Null Values !**"
   ]
  },
  {
   "cell_type": "markdown",
   "id": "2f3d7988",
   "metadata": {
    "papermill": {
     "duration": 0.038769,
     "end_time": "2021-11-22T17:20:18.081121",
     "exception": false,
     "start_time": "2021-11-22T17:20:18.042352",
     "status": "completed"
    },
    "tags": []
   },
   "source": [
    "Now lets analyse each column of the dataset and see if we get any hidden information or is there any correlation with target feature."
   ]
  },
  {
   "cell_type": "code",
   "execution_count": 7,
   "id": "4e494d1f",
   "metadata": {
    "execution": {
     "iopub.execute_input": "2021-11-22T17:20:18.163352Z",
     "iopub.status.busy": "2021-11-22T17:20:18.162363Z",
     "iopub.status.idle": "2021-11-22T17:20:18.460060Z",
     "shell.execute_reply": "2021-11-22T17:20:18.459424Z",
     "shell.execute_reply.started": "2021-11-22T16:57:02.279009Z"
    },
    "papermill": {
     "duration": 0.34009,
     "end_time": "2021-11-22T17:20:18.460207",
     "exception": false,
     "start_time": "2021-11-22T17:20:18.120117",
     "status": "completed"
    },
    "tags": []
   },
   "outputs": [
    {
     "data": {
      "text/plain": [
       "[]"
      ]
     },
     "execution_count": 7,
     "metadata": {},
     "output_type": "execute_result"
    },
    {
     "data": {
      "image/png": "[encoded data removed]",
      "text/plain": [
       "<Figure size 432x432 with 1 Axes>"
      ]
     },
     "metadata": {},
     "output_type": "display_data"
    }
   ],
   "source": [
    "sns.set()\n",
    "plt.figure(figsize=(6,6))\n",
    "plt.hist(df['age'])\n",
    "plt.title('Age Distribution')\n",
    "plt.xlabel('Age')\n",
    "plt.ylabel('Number of patient')\n",
    "plt.plot()"
   ]
  },
  {
   "cell_type": "markdown",
   "id": "5a9228e6",
   "metadata": {
    "papermill": {
     "duration": 0.040502,
     "end_time": "2021-11-22T17:20:18.540785",
     "exception": false,
     "start_time": "2021-11-22T17:20:18.500283",
     "status": "completed"
    },
    "tags": []
   },
   "source": [
    "It is suprisingly clear that there are more number of teen patients of age around 20-22. Lets see what are the charges like for each age group. "
   ]
  },
  {
   "cell_type": "code",
   "execution_count": 8,
   "id": "8bbc2888",
   "metadata": {
    "execution": {
     "iopub.execute_input": "2021-11-22T17:20:18.631747Z",
     "iopub.status.busy": "2021-11-22T17:20:18.629185Z",
     "iopub.status.idle": "2021-11-22T17:20:20.543731Z",
     "shell.execute_reply": "2021-11-22T17:20:20.544190Z",
     "shell.execute_reply.started": "2021-11-22T16:57:02.553973Z"
    },
    "papermill": {
     "duration": 1.963635,
     "end_time": "2021-11-22T17:20:20.544421",
     "exception": false,
     "start_time": "2021-11-22T17:20:18.580786",
     "status": "completed"
    },
    "tags": []
   },
   "outputs": [
    {
     "data": {
      "text/plain": [
       "[]"
      ]
     },
     "execution_count": 8,
     "metadata": {},
     "output_type": "execute_result"
    },
    {
     "data": {
      "image/png": "[encoded data removed]",
      "text/plain": [
       "<Figure size 1800x432 with 1 Axes>"
      ]
     },
     "metadata": {},
     "output_type": "display_data"
    }
   ],
   "source": [
    "sns.set()\n",
    "plt.figure(figsize=(25,6))\n",
    "sns.barplot(x=df['age'] , y=df['charges'])\n",
    "plt.title('Age vs Charges')\n",
    "plt.xlabel('Age')\n",
    "plt.ylabel('Charges')\n",
    "plt.plot()"
   ]
  },
  {
   "cell_type": "markdown",
   "id": "d0196531",
   "metadata": {
    "papermill": {
     "duration": 0.040073,
     "end_time": "2021-11-22T17:20:20.625453",
     "exception": false,
     "start_time": "2021-11-22T17:20:20.585380",
     "status": "completed"
    },
    "tags": []
   },
   "source": [
    "People who are old have record of large medical costs which is not surprising."
   ]
  },
  {
   "cell_type": "markdown",
   "id": "14ed72fd",
   "metadata": {
    "papermill": {
     "duration": 0.040394,
     "end_time": "2021-11-22T17:20:20.706180",
     "exception": false,
     "start_time": "2021-11-22T17:20:20.665786",
     "status": "completed"
    },
    "tags": []
   },
   "source": [
    "Lets see how many Mens and womens counts are there in our dataset."
   ]
  },
  {
   "cell_type": "code",
   "execution_count": 9,
   "id": "18eba491",
   "metadata": {
    "execution": {
     "iopub.execute_input": "2021-11-22T17:20:20.790230Z",
     "iopub.status.busy": "2021-11-22T17:20:20.789608Z",
     "iopub.status.idle": "2021-11-22T17:20:20.989618Z",
     "shell.execute_reply": "2021-11-22T17:20:20.989109Z",
     "shell.execute_reply.started": "2021-11-22T16:57:04.951607Z"
    },
    "papermill": {
     "duration": 0.243308,
     "end_time": "2021-11-22T17:20:20.989755",
     "exception": false,
     "start_time": "2021-11-22T17:20:20.746447",
     "status": "completed"
    },
    "tags": []
   },
   "outputs": [
    {
     "data": {
      "text/plain": [
       "[]"
      ]
     },
     "execution_count": 9,
     "metadata": {},
     "output_type": "execute_result"
    },
    {
     "data": {
      "image/png": "[encoded data removed]",
      "text/plain": [
       "<Figure size 432x432 with 1 Axes>"
      ]
     },
     "metadata": {},
     "output_type": "display_data"
    }
   ],
   "source": [
    "sns.set()\n",
    "plt.figure(figsize=(6,6))\n",
    "sns.countplot(x=df['sex'])\n",
    "plt.title('Male and Female count')\n",
    "plt.plot()"
   ]
  },
  {
   "cell_type": "markdown",
   "id": "aae844f6",
   "metadata": {
    "papermill": {
     "duration": 0.042268,
     "end_time": "2021-11-22T17:20:21.073654",
     "exception": false,
     "start_time": "2021-11-22T17:20:21.031386",
     "status": "completed"
    },
    "tags": []
   },
   "source": [
    "There are almost equal count of mens and womens. Lets check if there is any relation between sex and charges."
   ]
  },
  {
   "cell_type": "code",
   "execution_count": 10,
   "id": "d63b922b",
   "metadata": {
    "execution": {
     "iopub.execute_input": "2021-11-22T17:20:21.161840Z",
     "iopub.status.busy": "2021-11-22T17:20:21.161192Z",
     "iopub.status.idle": "2021-11-22T17:20:21.415285Z",
     "shell.execute_reply": "2021-11-22T17:20:21.415801Z",
     "shell.execute_reply.started": "2021-11-22T16:57:05.140485Z"
    },
    "papermill": {
     "duration": 0.299459,
     "end_time": "2021-11-22T17:20:21.416106",
     "exception": false,
     "start_time": "2021-11-22T17:20:21.116647",
     "status": "completed"
    },
    "tags": []
   },
   "outputs": [
    {
     "data": {
      "text/plain": [
       "[]"
      ]
     },
     "execution_count": 10,
     "metadata": {},
     "output_type": "execute_result"
    },
    {
     "data": {
      "image/png": "[encoded data removed]",
      "text/plain": [
       "<Figure size 432x432 with 1 Axes>"
      ]
     },
     "metadata": {},
     "output_type": "display_data"
    }
   ],
   "source": [
    "sns.set()\n",
    "plt.figure(figsize=(6,6))\n",
    "sns.barplot(x=df['sex'] , y = df['charges'])\n",
    "plt.title('Sex vs Charges')\n",
    "plt.plot()"
   ]
  },
  {
   "cell_type": "markdown",
   "id": "a012b364",
   "metadata": {
    "papermill": {
     "duration": 0.042592,
     "end_time": "2021-11-22T17:20:21.501843",
     "exception": false,
     "start_time": "2021-11-22T17:20:21.459251",
     "status": "completed"
    },
    "tags": []
   },
   "source": [
    "Medical cost for mens is slighlt higher as compared to womens but there is no significant difference. Let's check how many smoker mens and womens are there.\n",
    "\n",
    "First let's see how many smoking and non smoking patients are there."
   ]
  },
  {
   "cell_type": "code",
   "execution_count": 11,
   "id": "bdac15b5",
   "metadata": {
    "execution": {
     "iopub.execute_input": "2021-11-22T17:20:21.590106Z",
     "iopub.status.busy": "2021-11-22T17:20:21.589521Z",
     "iopub.status.idle": "2021-11-22T17:20:21.775754Z",
     "shell.execute_reply": "2021-11-22T17:20:21.776396Z",
     "shell.execute_reply.started": "2021-11-22T16:57:05.403664Z"
    },
    "papermill": {
     "duration": 0.232124,
     "end_time": "2021-11-22T17:20:21.776576",
     "exception": false,
     "start_time": "2021-11-22T17:20:21.544452",
     "status": "completed"
    },
    "tags": []
   },
   "outputs": [
    {
     "data": {
      "text/plain": [
       "[]"
      ]
     },
     "execution_count": 11,
     "metadata": {},
     "output_type": "execute_result"
    },
    {
     "data": {
      "image/png": "[encoded data removed]",
      "text/plain": [
       "<Figure size 432x432 with 1 Axes>"
      ]
     },
     "metadata": {},
     "output_type": "display_data"
    }
   ],
   "source": [
    "sns.set()\n",
    "plt.figure(figsize=(6,6))\n",
    "sns.countplot(x=df['smoker'])\n",
    "plt.title('Count of Smoker')\n",
    "plt.plot()"
   ]
  },
  {
   "cell_type": "markdown",
   "id": "22481051",
   "metadata": {
    "papermill": {
     "duration": 0.042896,
     "end_time": "2021-11-22T17:20:21.863063",
     "exception": false,
     "start_time": "2021-11-22T17:20:21.820167",
     "status": "completed"
    },
    "tags": []
   },
   "source": [
    "Large number of patients are non smoker"
   ]
  },
  {
   "cell_type": "code",
   "execution_count": 12,
   "id": "ae978995",
   "metadata": {
    "execution": {
     "iopub.execute_input": "2021-11-22T17:20:21.955067Z",
     "iopub.status.busy": "2021-11-22T17:20:21.954394Z",
     "iopub.status.idle": "2021-11-22T17:20:22.277183Z",
     "shell.execute_reply": "2021-11-22T17:20:22.277714Z",
     "shell.execute_reply.started": "2021-11-22T16:57:05.572747Z"
    },
    "papermill": {
     "duration": 0.369828,
     "end_time": "2021-11-22T17:20:22.277883",
     "exception": false,
     "start_time": "2021-11-22T17:20:21.908055",
     "status": "completed"
    },
    "tags": []
   },
   "outputs": [
    {
     "data": {
      "image/png": "[encoded data removed]",
      "text/plain": [
       "<Figure size 432x432 with 1 Axes>"
      ]
     },
     "metadata": {},
     "output_type": "display_data"
    }
   ],
   "source": [
    "plt.figure(figsize=(6,6))\n",
    "sns.barplot(x = df['smoker'] , y = df['charges'],hue=df['sex'])\n",
    "plt.title('Smoker men and Women vs Charges')\n",
    "plt.show()"
   ]
  },
  {
   "cell_type": "markdown",
   "id": "410e957a",
   "metadata": {
    "papermill": {
     "duration": 0.043536,
     "end_time": "2021-11-22T17:20:22.365902",
     "exception": false,
     "start_time": "2021-11-22T17:20:22.322366",
     "status": "completed"
    },
    "tags": []
   },
   "source": [
    "From above graph it can be seen that, medical cost for smokers men and women is almost 3 times as compared to non smoker men and women.\n",
    "\n",
    "Let's check relation between BMI and medical cost."
   ]
  },
  {
   "cell_type": "code",
   "execution_count": 13,
   "id": "a5a594a3",
   "metadata": {
    "execution": {
     "iopub.execute_input": "2021-11-22T17:20:22.458116Z",
     "iopub.status.busy": "2021-11-22T17:20:22.457461Z",
     "iopub.status.idle": "2021-11-22T17:20:22.947668Z",
     "shell.execute_reply": "2021-11-22T17:20:22.947137Z",
     "shell.execute_reply.started": "2021-11-22T16:57:05.961338Z"
    },
    "papermill": {
     "duration": 0.5379,
     "end_time": "2021-11-22T17:20:22.947806",
     "exception": false,
     "start_time": "2021-11-22T17:20:22.409906",
     "status": "completed"
    },
    "tags": []
   },
   "outputs": [
    {
     "name": "stderr",
     "output_type": "stream",
     "text": [
      "/home/omkar/.local/lib/python3.8/site-packages/seaborn/distributions.py:2619: FutureWarning: `distplot` is a deprecated function and will be removed in a future version. Please adapt your code to use either `displot` (a figure-level function with similar flexibility) or `histplot` (an axes-level function for histograms).\n",
      "  warnings.warn(msg, FutureWarning)\n"
     ]
    },
    {
     "data": {
      "text/plain": [
       "[]"
      ]
     },
     "execution_count": 13,
     "metadata": {},
     "output_type": "execute_result"
    },
    {
     "data": {
      "image/png": "[encoded data removed]",
      "text/plain": [
       "<Figure size 720x432 with 1 Axes>"
      ]
     },
     "metadata": {},
     "output_type": "display_data"
    }
   ],
   "source": [
    "sns.set()\n",
    "plt.figure(figsize=(10,6))\n",
    "sns.distplot(df['bmi'])\n",
    "plt.title('BMI distribution')\n",
    "plt.plot()"
   ]
  },
  {
   "cell_type": "code",
   "execution_count": 14,
   "id": "8a9a60a5",
   "metadata": {
    "execution": {
     "iopub.execute_input": "2021-11-22T17:20:23.047992Z",
     "iopub.status.busy": "2021-11-22T17:20:23.047312Z",
     "iopub.status.idle": "2021-11-22T17:20:23.531864Z",
     "shell.execute_reply": "2021-11-22T17:20:23.532360Z",
     "shell.execute_reply.started": "2021-11-22T16:57:06.501156Z"
    },
    "papermill": {
     "duration": 0.537983,
     "end_time": "2021-11-22T17:20:23.532529",
     "exception": false,
     "start_time": "2021-11-22T17:20:22.994546",
     "status": "completed"
    },
    "tags": []
   },
   "outputs": [
    {
     "data": {
      "text/plain": [
       "[]"
      ]
     },
     "execution_count": 14,
     "metadata": {},
     "output_type": "execute_result"
    },
    {
     "data": {
      "image/png": "[encoded data removed]",
      "text/plain": [
       "<Figure size 720x720 with 1 Axes>"
      ]
     },
     "metadata": {},
     "output_type": "display_data"
    }
   ],
   "source": [
    "sns.set()\n",
    "plt.figure(figsize=(10,10))\n",
    "sns.scatterplot(x = df['bmi'] , y = df['charges'],hue=df['sex'])\n",
    "plt.title('Mens and Womens BMI vs Charges')\n",
    "plt.plot()"
   ]
  },
  {
   "cell_type": "markdown",
   "id": "41ef6afa",
   "metadata": {
    "papermill": {
     "duration": 0.050294,
     "end_time": "2021-11-22T17:20:23.633042",
     "exception": false,
     "start_time": "2021-11-22T17:20:23.582748",
     "status": "completed"
    },
    "tags": []
   },
   "source": [
    "From above plot it is clear that, mens with BMI in range (30 - 45) have hight medical cost as compared to women."
   ]
  },
  {
   "cell_type": "code",
   "execution_count": 15,
   "id": "ab1a7e68",
   "metadata": {
    "execution": {
     "iopub.execute_input": "2021-11-22T17:20:23.740650Z",
     "iopub.status.busy": "2021-11-22T17:20:23.740036Z",
     "iopub.status.idle": "2021-11-22T17:20:23.948758Z",
     "shell.execute_reply": "2021-11-22T17:20:23.949238Z",
     "shell.execute_reply.started": "2021-11-22T16:57:07.071202Z"
    },
    "papermill": {
     "duration": 0.265989,
     "end_time": "2021-11-22T17:20:23.949407",
     "exception": false,
     "start_time": "2021-11-22T17:20:23.683418",
     "status": "completed"
    },
    "tags": []
   },
   "outputs": [
    {
     "name": "stderr",
     "output_type": "stream",
     "text": [
      "/home/omkar/.local/lib/python3.8/site-packages/seaborn/_decorators.py:36: FutureWarning: Pass the following variable as a keyword arg: x. From version 0.12, the only valid positional argument will be `data`, and passing other arguments without an explicit keyword will result in an error or misinterpretation.\n",
      "  warnings.warn(\n"
     ]
    },
    {
     "data": {
      "image/png": "[encoded data removed]",
      "text/plain": [
       "<Figure size 432x432 with 1 Axes>"
      ]
     },
     "metadata": {},
     "output_type": "display_data"
    }
   ],
   "source": [
    "sns.set()\n",
    "plt.figure(figsize=(6,6))\n",
    "sns.countplot(df['children'])\n",
    "plt.title('Count of patients with number of children')\n",
    "plt.show()"
   ]
  },
  {
   "cell_type": "markdown",
   "id": "9807be39",
   "metadata": {
    "papermill": {
     "duration": 0.051236,
     "end_time": "2021-11-22T17:20:24.052121",
     "exception": false,
     "start_time": "2021-11-22T17:20:24.000885",
     "status": "completed"
    },
    "tags": []
   },
   "source": [
    "Above graph describes number of patients with children count = 0,1,2,3,4,5. Let's check if number of childrens affect the medical cost."
   ]
  },
  {
   "cell_type": "code",
   "execution_count": 16,
   "id": "41cc9f22",
   "metadata": {
    "execution": {
     "iopub.execute_input": "2021-11-22T17:20:24.157648Z",
     "iopub.status.busy": "2021-11-22T17:20:24.157013Z",
     "iopub.status.idle": "2021-11-22T17:20:24.509939Z",
     "shell.execute_reply": "2021-11-22T17:20:24.509378Z",
     "shell.execute_reply.started": "2021-11-22T16:57:07.318603Z"
    },
    "papermill": {
     "duration": 0.406918,
     "end_time": "2021-11-22T17:20:24.510085",
     "exception": false,
     "start_time": "2021-11-22T17:20:24.103167",
     "status": "completed"
    },
    "tags": []
   },
   "outputs": [
    {
     "data": {
      "image/png": "[encoded data removed]",
      "text/plain": [
       "<Figure size 432x432 with 1 Axes>"
      ]
     },
     "metadata": {},
     "output_type": "display_data"
    }
   ],
   "source": [
    "plt.figure(figsize=(6,6))\n",
    "sns.barplot(x = df['children'] , y = df['charges'])\n",
    "plt.title('No. of Childrens vs Charges')\n",
    "plt.show()"
   ]
  },
  {
   "cell_type": "markdown",
   "id": "e9a9d777",
   "metadata": {
    "papermill": {
     "duration": 0.051688,
     "end_time": "2021-11-22T17:20:24.613641",
     "exception": false,
     "start_time": "2021-11-22T17:20:24.561953",
     "status": "completed"
    },
    "tags": []
   },
   "source": [
    "There is no any significant difference in medical cost based on number of children patient has. "
   ]
  },
  {
   "cell_type": "markdown",
   "id": "a576ba2a",
   "metadata": {
    "papermill": {
     "duration": 0.05143,
     "end_time": "2021-11-22T17:20:24.716711",
     "exception": false,
     "start_time": "2021-11-22T17:20:24.665281",
     "status": "completed"
    },
    "tags": []
   },
   "source": [
    "Let's check how many number of patients belong to which region."
   ]
  },
  {
   "cell_type": "code",
   "execution_count": 17,
   "id": "bcbddc88",
   "metadata": {
    "execution": {
     "iopub.execute_input": "2021-11-22T17:20:24.829447Z",
     "iopub.status.busy": "2021-11-22T17:20:24.828732Z",
     "iopub.status.idle": "2021-11-22T17:20:25.052450Z",
     "shell.execute_reply": "2021-11-22T17:20:25.051871Z",
     "shell.execute_reply.started": "2021-11-22T16:57:07.765303Z"
    },
    "papermill": {
     "duration": 0.283988,
     "end_time": "2021-11-22T17:20:25.052603",
     "exception": false,
     "start_time": "2021-11-22T17:20:24.768615",
     "status": "completed"
    },
    "tags": []
   },
   "outputs": [
    {
     "data": {
      "text/plain": [
       "[]"
      ]
     },
     "execution_count": 17,
     "metadata": {},
     "output_type": "execute_result"
    },
    {
     "data": {
      "image/png": "[encoded data removed]",
      "text/plain": [
       "<Figure size 432x432 with 1 Axes>"
      ]
     },
     "metadata": {},
     "output_type": "display_data"
    }
   ],
   "source": [
    "sns.set()\n",
    "plt.figure(figsize = (6,6))\n",
    "sns.countplot(x=df['region'])\n",
    "plt.title('Number of patients in each region')\n",
    "plt.plot()"
   ]
  },
  {
   "cell_type": "markdown",
   "id": "4b528862",
   "metadata": {
    "papermill": {
     "duration": 0.053198,
     "end_time": "2021-11-22T17:20:25.158887",
     "exception": false,
     "start_time": "2021-11-22T17:20:25.105689",
     "status": "completed"
    },
    "tags": []
   },
   "source": [
    "There are almost same number of patients from each region but slightly greater in southeast region. Let's see what is relation between region and charges."
   ]
  },
  {
   "cell_type": "code",
   "execution_count": 18,
   "id": "c1b90ba0",
   "metadata": {
    "execution": {
     "iopub.execute_input": "2021-11-22T17:20:25.274719Z",
     "iopub.status.busy": "2021-11-22T17:20:25.273692Z",
     "iopub.status.idle": "2021-11-22T17:20:25.596899Z",
     "shell.execute_reply": "2021-11-22T17:20:25.596369Z",
     "shell.execute_reply.started": "2021-11-22T16:57:08.034133Z"
    },
    "papermill": {
     "duration": 0.38404,
     "end_time": "2021-11-22T17:20:25.597080",
     "exception": false,
     "start_time": "2021-11-22T17:20:25.213040",
     "status": "completed"
    },
    "tags": []
   },
   "outputs": [
    {
     "data": {
      "text/plain": [
       "[]"
      ]
     },
     "execution_count": 18,
     "metadata": {},
     "output_type": "execute_result"
    },
    {
     "data": {
      "image/png": "[encoded data removed]",
      "text/plain": [
       "<Figure size 432x432 with 1 Axes>"
      ]
     },
     "metadata": {},
     "output_type": "display_data"
    }
   ],
   "source": [
    "sns.set()\n",
    "plt.figure(figsize=(6,6))\n",
    "sns.barplot(x = df['region'] , y=df['charges'])\n",
    "plt.title('Region vs Charges')\n",
    "plt.plot()"
   ]
  },
  {
   "cell_type": "markdown",
   "id": "c411e0f8",
   "metadata": {
    "papermill": {
     "duration": 0.055505,
     "end_time": "2021-11-22T17:20:25.708333",
     "exception": false,
     "start_time": "2021-11-22T17:20:25.652828",
     "status": "completed"
    },
    "tags": []
   },
   "source": [
    "Finally , let's check how charges are distributed."
   ]
  },
  {
   "cell_type": "code",
   "execution_count": 19,
   "id": "aecfcbd1",
   "metadata": {
    "execution": {
     "iopub.execute_input": "2021-11-22T17:20:25.826826Z",
     "iopub.status.busy": "2021-11-22T17:20:25.826204Z",
     "iopub.status.idle": "2021-11-22T17:20:26.194697Z",
     "shell.execute_reply": "2021-11-22T17:20:26.194074Z",
     "shell.execute_reply.started": "2021-11-22T16:57:08.429941Z"
    },
    "papermill": {
     "duration": 0.430699,
     "end_time": "2021-11-22T17:20:26.194840",
     "exception": false,
     "start_time": "2021-11-22T17:20:25.764141",
     "status": "completed"
    },
    "tags": []
   },
   "outputs": [
    {
     "name": "stderr",
     "output_type": "stream",
     "text": [
      "/home/omkar/.local/lib/python3.8/site-packages/seaborn/distributions.py:2619: FutureWarning: `distplot` is a deprecated function and will be removed in a future version. Please adapt your code to use either `displot` (a figure-level function with similar flexibility) or `histplot` (an axes-level function for histograms).\n",
      "  warnings.warn(msg, FutureWarning)\n"
     ]
    },
    {
     "data": {
      "text/plain": [
       "[]"
      ]
     },
     "execution_count": 19,
     "metadata": {},
     "output_type": "execute_result"
    },
    {
     "data": {
      "image/png": "[encoded data removed]",
      "text/plain": [
       "<Figure size 432x432 with 1 Axes>"
      ]
     },
     "metadata": {},
     "output_type": "display_data"
    }
   ],
   "source": [
    "sns.set()\n",
    "plt.figure(figsize=(6,6))\n",
    "sns.distplot(df['charges'])\n",
    "plt.title('Charges distribution')\n",
    "plt.plot()"
   ]
  },
  {
   "cell_type": "markdown",
   "id": "9036cfb2",
   "metadata": {
    "execution": {
     "iopub.execute_input": "2021-11-22T16:12:17.728025Z",
     "iopub.status.busy": "2021-11-22T16:12:17.727687Z",
     "iopub.status.idle": "2021-11-22T16:12:17.731956Z",
     "shell.execute_reply": "2021-11-22T16:12:17.731196Z",
     "shell.execute_reply.started": "2021-11-22T16:12:17.727990Z"
    },
    "papermill": {
     "duration": 0.055119,
     "end_time": "2021-11-22T17:20:26.417542",
     "exception": false,
     "start_time": "2021-11-22T17:20:26.362423",
     "status": "completed"
    },
    "tags": []
   },
   "source": [
    "# Model Building  - Optuna tuning - Bleding"
   ]
  },
  {
   "cell_type": "markdown",
   "id": "9ac14d86",
   "metadata": {
    "papermill": {
     "duration": 0.055228,
     "end_time": "2021-11-22T17:20:26.528028",
     "exception": false,
     "start_time": "2021-11-22T17:20:26.472800",
     "status": "completed"
    },
    "tags": []
   },
   "source": [
    "We have 3 categorical columns - Sex , Smoker and Region. We are using Onehotencoder to transform this categorical features into numerical features. \n",
    "\n",
    "We are not fitting or transforming features right now. We have just made one transformer which does job as we have specified which is onehotencoding specified features. We will be using this created transformer 'trf' in pipeline ahead."
   ]
  },
  {
   "cell_type": "code",
   "execution_count": 20,
   "id": "b5ae8533",
   "metadata": {
    "execution": {
     "iopub.execute_input": "2021-11-22T17:20:26.643995Z",
     "iopub.status.busy": "2021-11-22T17:20:26.643357Z",
     "iopub.status.idle": "2021-11-22T17:20:26.646089Z",
     "shell.execute_reply": "2021-11-22T17:20:26.645616Z",
     "shell.execute_reply.started": "2021-11-22T16:57:08.823693Z"
    },
    "papermill": {
     "duration": 0.062752,
     "end_time": "2021-11-22T17:20:26.646231",
     "exception": false,
     "start_time": "2021-11-22T17:20:26.583479",
     "status": "completed"
    },
    "tags": []
   },
   "outputs": [],
   "source": [
    "trf = ColumnTransformer([\n",
    "    ('trf',OneHotEncoder(sparse=False,drop='first'),['sex','smoker','region'])\n",
    "]\n",
    ",remainder='passthrough')\n"
   ]
  },
  {
   "cell_type": "markdown",
   "id": "18936507",
   "metadata": {
    "papermill": {
     "duration": 0.054957,
     "end_time": "2021-11-22T17:20:26.756575",
     "exception": false,
     "start_time": "2021-11-22T17:20:26.701618",
     "status": "completed"
    },
    "tags": []
   },
   "source": [
    "* Splitting train and test state. We have made 80 - 20 split."
   ]
  },
  {
   "cell_type": "code",
   "execution_count": 21,
   "id": "fb1791d5",
   "metadata": {
    "execution": {
     "iopub.execute_input": "2021-11-22T17:20:26.878363Z",
     "iopub.status.busy": "2021-11-22T17:20:26.874454Z",
     "iopub.status.idle": "2021-11-22T17:20:26.880889Z",
     "shell.execute_reply": "2021-11-22T17:20:26.881607Z",
     "shell.execute_reply.started": "2021-11-22T17:00:06.334598Z"
    },
    "papermill": {
     "duration": 0.068824,
     "end_time": "2021-11-22T17:20:26.881801",
     "exception": false,
     "start_time": "2021-11-22T17:20:26.812977",
     "status": "completed"
    },
    "tags": []
   },
   "outputs": [],
   "source": [
    "x = df.drop(['charges'], axis = 1)\n",
    "y = df.charges\n",
    "\n",
    "x_train,x_test,y_train,y_test = train_test_split(x,y,test_size=0.2 ,random_state = 0 )"
   ]
  },
  {
   "cell_type": "code",
   "execution_count": 22,
   "id": "a2de4b0b",
   "metadata": {
    "execution": {
     "iopub.execute_input": "2021-11-22T17:20:27.025615Z",
     "iopub.status.busy": "2021-11-22T17:20:27.024614Z",
     "iopub.status.idle": "2021-11-22T17:20:27.029785Z",
     "shell.execute_reply": "2021-11-22T17:20:27.030395Z",
     "shell.execute_reply.started": "2021-11-22T17:00:09.954493Z"
    },
    "papermill": {
     "duration": 0.073547,
     "end_time": "2021-11-22T17:20:27.030578",
     "exception": false,
     "start_time": "2021-11-22T17:20:26.957031",
     "status": "completed"
    },
    "tags": []
   },
   "outputs": [
    {
     "data": {
      "text/plain": [
       "((1070, 6), (1070,))"
      ]
     },
     "execution_count": 22,
     "metadata": {},
     "output_type": "execute_result"
    }
   ],
   "source": [
    "x_train.shape,y_train.shape"
   ]
  },
  {
   "cell_type": "code",
   "execution_count": 23,
   "id": "4e2886e9",
   "metadata": {
    "execution": {
     "iopub.execute_input": "2021-11-22T17:20:27.147252Z",
     "iopub.status.busy": "2021-11-22T17:20:27.146370Z",
     "iopub.status.idle": "2021-11-22T17:20:27.149636Z",
     "shell.execute_reply": "2021-11-22T17:20:27.150110Z",
     "shell.execute_reply.started": "2021-11-22T17:00:11.518883Z"
    },
    "papermill": {
     "duration": 0.064331,
     "end_time": "2021-11-22T17:20:27.150283",
     "exception": false,
     "start_time": "2021-11-22T17:20:27.085952",
     "status": "completed"
    },
    "tags": []
   },
   "outputs": [
    {
     "data": {
      "text/plain": [
       "((268, 6), (268,))"
      ]
     },
     "execution_count": 23,
     "metadata": {},
     "output_type": "execute_result"
    }
   ],
   "source": [
    "x_test.shape,y_test.shape"
   ]
  },
  {
   "cell_type": "markdown",
   "id": "edd12399",
   "metadata": {
    "papermill": {
     "duration": 0.055126,
     "end_time": "2021-11-22T17:20:27.261198",
     "exception": false,
     "start_time": "2021-11-22T17:20:27.206072",
     "status": "completed"
    },
    "tags": []
   },
   "source": [
    "Now here we have made one list containing tuple, where each tuple contains model name and model itself. \n",
    "\n",
    "We will be using this **models** list to fit and predict using each model and find top 3 models based on R2_score for blending and tuning."
   ]
  },
  {
   "cell_type": "code",
   "execution_count": 24,
   "id": "06cc7176",
   "metadata": {
    "execution": {
     "iopub.execute_input": "2021-11-22T17:20:27.382058Z",
     "iopub.status.busy": "2021-11-22T17:20:27.380953Z",
     "iopub.status.idle": "2021-11-22T17:20:27.383302Z",
     "shell.execute_reply": "2021-11-22T17:20:27.383810Z",
     "shell.execute_reply.started": "2021-11-22T17:10:17.566182Z"
    },
    "papermill": {
     "duration": 0.067255,
     "end_time": "2021-11-22T17:20:27.384032",
     "exception": false,
     "start_time": "2021-11-22T17:20:27.316777",
     "status": "completed"
    },
    "tags": []
   },
   "outputs": [],
   "source": [
    "models = [\n",
    "    ('Linear Regression', LinearRegression()),\n",
    "    ('XGBoost Regressor' , xgb.XGBRegressor()),\n",
    "    ('Random Forest' , RandomForestRegressor()),\n",
    "    ('Decision Tree',DecisionTreeRegressor()),\n",
    "    ('Cat Boost' , cb.CatBoostRegressor(verbose= 0)),\n",
    "    ('Light GBM',lgb.LGBMRegressor())\n",
    "]"
   ]
  },
  {
   "cell_type": "markdown",
   "id": "e6909196",
   "metadata": {
    "papermill": {
     "duration": 0.05556,
     "end_time": "2021-11-22T17:20:27.498404",
     "exception": false,
     "start_time": "2021-11-22T17:20:27.442844",
     "status": "completed"
    },
    "tags": []
   },
   "source": [
    "In below snippet we have created pipeline which contains 3 steps - \n",
    "\n",
    "1. Transformer that we have created earlier which is encoding categorical features\n",
    "2. Standard scaler used for standardizing all features as there are some features which have wide value range i.e age (18-64) and features which have small value range i.e children (0-5).\n",
    "3. model used.\n",
    "\n",
    "This pipeline is fitted and used for prediction with each model from 'models' list and r2_score for each model is stored in result dictionary."
   ]
  },
  {
   "cell_type": "code",
   "execution_count": 25,
   "id": "b29dec4f",
   "metadata": {
    "execution": {
     "iopub.execute_input": "2021-11-22T17:20:27.618097Z",
     "iopub.status.busy": "2021-11-22T17:20:27.617085Z",
     "iopub.status.idle": "2021-11-22T17:20:29.682260Z",
     "shell.execute_reply": "2021-11-22T17:20:29.682796Z",
     "shell.execute_reply.started": "2021-11-22T17:10:19.825816Z"
    },
    "papermill": {
     "duration": 2.128707,
     "end_time": "2021-11-22T17:20:29.683036",
     "exception": false,
     "start_time": "2021-11-22T17:20:27.554329",
     "status": "completed"
    },
    "tags": []
   },
   "outputs": [],
   "source": [
    "result = dict()\n",
    "for name,model in models:\n",
    "    pipe = Pipeline(steps=[\n",
    "        ('step1',trf),\n",
    "        ('step2',StandardScaler()),\n",
    "        ('step3',model)\n",
    "    ])\n",
    "\n",
    "    pipe.fit(x_train,y_train)\n",
    "    y_test_pred = pipe.predict(x_test)\n",
    "    result[name] = r2_score(y_test,y_test_pred)"
   ]
  },
  {
   "cell_type": "markdown",
   "id": "a073917f",
   "metadata": {
    "papermill": {
     "duration": 0.056134,
     "end_time": "2021-11-22T17:20:29.795583",
     "exception": false,
     "start_time": "2021-11-22T17:20:29.739449",
     "status": "completed"
    },
    "tags": []
   },
   "source": [
    "Converting dictionary 'result' into dataframe."
   ]
  },
  {
   "cell_type": "code",
   "execution_count": 26,
   "id": "4819e726",
   "metadata": {
    "execution": {
     "iopub.execute_input": "2021-11-22T17:20:29.914457Z",
     "iopub.status.busy": "2021-11-22T17:20:29.913399Z",
     "iopub.status.idle": "2021-11-22T17:20:29.925808Z",
     "shell.execute_reply": "2021-11-22T17:20:29.925172Z",
     "shell.execute_reply.started": "2021-11-22T17:10:27.412523Z"
    },
    "papermill": {
     "duration": 0.073118,
     "end_time": "2021-11-22T17:20:29.926076",
     "exception": false,
     "start_time": "2021-11-22T17:20:29.852958",
     "status": "completed"
    },
    "tags": []
   },
   "outputs": [
    {
     "data": {
      "text/html": [
       "<div>\n",
       "<style scoped>\n",
       "    .dataframe tbody tr th:only-of-type {\n",
       "        vertical-align: middle;\n",
       "    }\n",
       "\n",
       "    .dataframe tbody tr th {\n",
       "        vertical-align: top;\n",
       "    }\n",
       "\n",
       "    .dataframe thead th {\n",
       "        text-align: right;\n",
       "    }\n",
       "</style>\n",
       "<table border=\"1\" class=\"dataframe\">\n",
       "  <thead>\n",
       "    <tr style=\"text-align: right;\">\n",
       "      <th></th>\n",
       "      <th>R2 Score</th>\n",
       "    </tr>\n",
       "  </thead>\n",
       "  <tbody>\n",
       "    <tr>\n",
       "      <th>Cat Boost</th>\n",
       "      <td>0.896466</td>\n",
       "    </tr>\n",
       "    <tr>\n",
       "      <th>Light GBM</th>\n",
       "      <td>0.879594</td>\n",
       "    </tr>\n",
       "    <tr>\n",
       "      <th>Random Forest</th>\n",
       "      <td>0.877754</td>\n",
       "    </tr>\n",
       "    <tr>\n",
       "      <th>XGBoost Regressor</th>\n",
       "      <td>0.850272</td>\n",
       "    </tr>\n",
       "    <tr>\n",
       "      <th>Linear Regression</th>\n",
       "      <td>0.799988</td>\n",
       "    </tr>\n",
       "    <tr>\n",
       "      <th>Decision Tree</th>\n",
       "      <td>0.701170</td>\n",
       "    </tr>\n",
       "  </tbody>\n",
       "</table>\n",
       "</div>"
      ],
      "text/plain": [
       "                   R2 Score\n",
       "Cat Boost          0.896466\n",
       "Light GBM          0.879594\n",
       "Random Forest      0.877754\n",
       "XGBoost Regressor  0.850272\n",
       "Linear Regression  0.799988\n",
       "Decision Tree      0.701170"
      ]
     },
     "execution_count": 26,
     "metadata": {},
     "output_type": "execute_result"
    }
   ],
   "source": [
    "result = pd.DataFrame([result]).T\n",
    "result.rename(columns={0:'R2 Score'},inplace=True)\n",
    "result = result.sort_values(by = 'R2 Score',ascending=False)\n",
    "result"
   ]
  },
  {
   "cell_type": "markdown",
   "id": "b577e5b0",
   "metadata": {
    "papermill": {
     "duration": 0.057634,
     "end_time": "2021-11-22T17:20:30.043510",
     "exception": false,
     "start_time": "2021-11-22T17:20:29.985876",
     "status": "completed"
    },
    "tags": []
   },
   "source": [
    "As can be seen from above snippet , Catboost, LightGBM , RandomForest and XGBoost are the top performing models. We can visualize the same as below."
   ]
  },
  {
   "cell_type": "code",
   "execution_count": 27,
   "id": "fdc67dba",
   "metadata": {
    "execution": {
     "iopub.execute_input": "2021-11-22T17:20:30.162123Z",
     "iopub.status.busy": "2021-11-22T17:20:30.161404Z",
     "iopub.status.idle": "2021-11-22T17:20:30.383491Z",
     "shell.execute_reply": "2021-11-22T17:20:30.382896Z",
     "shell.execute_reply.started": "2021-11-22T17:10:33.477044Z"
    },
    "papermill": {
     "duration": 0.283588,
     "end_time": "2021-11-22T17:20:30.383644",
     "exception": false,
     "start_time": "2021-11-22T17:20:30.100056",
     "status": "completed"
    },
    "tags": []
   },
   "outputs": [
    {
     "data": {
      "image/png": "[encoded data removed]",
      "text/plain": [
       "<Figure size 1440x360 with 1 Axes>"
      ]
     },
     "metadata": {},
     "output_type": "display_data"
    }
   ],
   "source": [
    "sns.set()\n",
    "plt.figure(figsize=(20,5))\n",
    "plt.bar(x = result.index , height = result['R2 Score'],width=0.6)\n",
    "plt.xlabel('Models')\n",
    "plt.ylabel('R2 Score')\n",
    "plt.show()"
   ]
  },
  {
   "cell_type": "markdown",
   "id": "cf40de31",
   "metadata": {
    "papermill": {
     "duration": 0.056379,
     "end_time": "2021-11-22T17:20:30.497102",
     "exception": false,
     "start_time": "2021-11-22T17:20:30.440723",
     "status": "completed"
    },
    "tags": []
   },
   "source": [
    "We will be using CatBoost , XGBoost and RandomForestRegressor .\n",
    "\n",
    "Hyperparameters are tuned for each model using optuna as shown below."
   ]
  },
  {
   "cell_type": "code",
   "execution_count": 28,
   "id": "0bd60d0b",
   "metadata": {
    "execution": {
     "iopub.execute_input": "2021-11-22T17:20:30.613885Z",
     "iopub.status.busy": "2021-11-22T17:20:30.613296Z",
     "iopub.status.idle": "2021-11-22T17:20:31.075736Z",
     "shell.execute_reply": "2021-11-22T17:20:31.076251Z",
     "shell.execute_reply.started": "2021-11-22T17:11:42.766792Z"
    },
    "papermill": {
     "duration": 0.522503,
     "end_time": "2021-11-22T17:20:31.076447",
     "exception": false,
     "start_time": "2021-11-22T17:20:30.553944",
     "status": "completed"
    },
    "tags": []
   },
   "outputs": [],
   "source": [
    "import optuna\n",
    "def objective_cat(trial):\n",
    "    param={\n",
    "    'iterations' : trial.suggest_int('iterations',100,200),\n",
    "    'depth' : trial.suggest_int('depth' , 2,8),\n",
    "    'learning_rate' : trial.suggest_float('learning_rate',0.03,0.1),\n",
    "    'verbose': 0,\n",
    "    'l2_leaf_reg' : trial.suggest_categorical('l2_leaf_reg',[0.2,0.5,1,3])\n",
    "    }\n",
    "    \n",
    "    pipe = Pipeline(steps=[\n",
    "        ('step1',trf),\n",
    "        ('step2',StandardScaler()),\n",
    "        ('step3',cb.CatBoostRegressor(**param))\n",
    "    ])\n",
    "    \n",
    "    pipe.fit(x_train,y_train)\n",
    "    \n",
    "    y_pred = pipe.predict(x_test)\n",
    "    \n",
    "    return r2_score(y_test,y_pred)\n",
    "\n",
    "    "
   ]
  },
  {
   "cell_type": "code",
   "execution_count": 29,
   "id": "2f5e3f49",
   "metadata": {
    "execution": {
     "iopub.execute_input": "2021-11-22T17:20:31.195732Z",
     "iopub.status.busy": "2021-11-22T17:20:31.195091Z",
     "iopub.status.idle": "2021-11-22T17:20:37.862574Z",
     "shell.execute_reply": "2021-11-22T17:20:37.862075Z",
     "shell.execute_reply.started": "2021-11-22T17:12:06.443800Z"
    },
    "papermill": {
     "duration": 6.729276,
     "end_time": "2021-11-22T17:20:37.862722",
     "exception": false,
     "start_time": "2021-11-22T17:20:31.133446",
     "status": "completed"
    },
    "tags": []
   },
   "outputs": [
    {
     "name": "stderr",
     "output_type": "stream",
     "text": [
      "\u001b[32m[I 2021-11-23 08:47:53,955]\u001b[0m A new study created in memory with name: no-name-7bfa830c-b2bf-45f4-b189-49e296c6be3a\u001b[0m\n",
      "\u001b[32m[I 2021-11-23 08:47:54,056]\u001b[0m Trial 0 finished with value: 0.9030662707556947 and parameters: {'iterations': 144, 'depth': 4, 'learning_rate': 0.032227869905785585, 'l2_leaf_reg': 1}. Best is trial 0 with value: 0.9030662707556947.\u001b[0m\n",
      "\u001b[32m[I 2021-11-23 08:47:54,098]\u001b[0m Trial 1 finished with value: 0.9021704584994577 and parameters: {'iterations': 123, 'depth': 2, 'learning_rate': 0.08780488543691191, 'l2_leaf_reg': 1}. Best is trial 0 with value: 0.9030662707556947.\u001b[0m\n",
      "\u001b[32m[I 2021-11-23 08:47:54,172]\u001b[0m Trial 2 finished with value: 0.9042460258406647 and parameters: {'iterations': 167, 'depth': 4, 'learning_rate': 0.042136582769741915, 'l2_leaf_reg': 1}. Best is trial 2 with value: 0.9042460258406647.\u001b[0m\n",
      "\u001b[32m[I 2021-11-23 08:47:54,238]\u001b[0m Trial 3 finished with value: 0.9033923139578289 and parameters: {'iterations': 148, 'depth': 4, 'learning_rate': 0.09377384030943668, 'l2_leaf_reg': 3}. Best is trial 2 with value: 0.9042460258406647.\u001b[0m\n",
      "\u001b[32m[I 2021-11-23 08:47:54,336]\u001b[0m Trial 4 finished with value: 0.9044215880249442 and parameters: {'iterations': 148, 'depth': 6, 'learning_rate': 0.039939147366974063, 'l2_leaf_reg': 1}. Best is trial 4 with value: 0.9044215880249442.\u001b[0m\n",
      "\u001b[32m[I 2021-11-23 08:47:54,529]\u001b[0m Trial 5 finished with value: 0.8972499181461793 and parameters: {'iterations': 157, 'depth': 8, 'learning_rate': 0.0701247483731325, 'l2_leaf_reg': 3}. Best is trial 4 with value: 0.9044215880249442.\u001b[0m\n",
      "\u001b[32m[I 2021-11-23 08:47:54,622]\u001b[0m Trial 6 finished with value: 0.9039323844083605 and parameters: {'iterations': 127, 'depth': 6, 'learning_rate': 0.058286422730402174, 'l2_leaf_reg': 1}. Best is trial 4 with value: 0.9044215880249442.\u001b[0m\n",
      "\u001b[32m[I 2021-11-23 08:47:54,753]\u001b[0m Trial 7 finished with value: 0.8968569609023177 and parameters: {'iterations': 146, 'depth': 7, 'learning_rate': 0.06981735465637612, 'l2_leaf_reg': 0.2}. Best is trial 4 with value: 0.9044215880249442.\u001b[0m\n",
      "\u001b[32m[I 2021-11-23 08:47:54,867]\u001b[0m Trial 8 finished with value: 0.9046202857226414 and parameters: {'iterations': 175, 'depth': 6, 'learning_rate': 0.03464683311268959, 'l2_leaf_reg': 0.5}. Best is trial 8 with value: 0.9046202857226414.\u001b[0m\n",
      "\u001b[32m[I 2021-11-23 08:47:54,912]\u001b[0m Trial 9 finished with value: 0.8972129746053193 and parameters: {'iterations': 146, 'depth': 2, 'learning_rate': 0.045859138034134606, 'l2_leaf_reg': 3}. Best is trial 8 with value: 0.9046202857226414.\u001b[0m\n",
      "\u001b[32m[I 2021-11-23 08:47:55,173]\u001b[0m Trial 10 finished with value: 0.896788491336518 and parameters: {'iterations': 199, 'depth': 8, 'learning_rate': 0.05652679697427848, 'l2_leaf_reg': 0.5}. Best is trial 8 with value: 0.9046202857226414.\u001b[0m\n",
      "\u001b[32m[I 2021-11-23 08:47:55,303]\u001b[0m Trial 11 finished with value: 0.9047483087753454 and parameters: {'iterations': 184, 'depth': 6, 'learning_rate': 0.03003853082134499, 'l2_leaf_reg': 0.5}. Best is trial 11 with value: 0.9047483087753454.\u001b[0m\n",
      "\u001b[32m[I 2021-11-23 08:47:55,433]\u001b[0m Trial 12 finished with value: 0.9040958126508712 and parameters: {'iterations': 186, 'depth': 6, 'learning_rate': 0.030298734887125926, 'l2_leaf_reg': 0.5}. Best is trial 11 with value: 0.9047483087753454.\u001b[0m\n",
      "\u001b[32m[I 2021-11-23 08:47:55,538]\u001b[0m Trial 13 finished with value: 0.9034235271925039 and parameters: {'iterations': 178, 'depth': 5, 'learning_rate': 0.05043943037437616, 'l2_leaf_reg': 0.5}. Best is trial 11 with value: 0.9047483087753454.\u001b[0m\n",
      "\u001b[32m[I 2021-11-23 08:47:55,642]\u001b[0m Trial 14 finished with value: 0.8987899542893444 and parameters: {'iterations': 101, 'depth': 7, 'learning_rate': 0.03564770849693986, 'l2_leaf_reg': 0.5}. Best is trial 11 with value: 0.9047483087753454.\u001b[0m\n",
      "\u001b[32m[I 2021-11-23 08:47:55,752]\u001b[0m Trial 15 finished with value: 0.9027845653022679 and parameters: {'iterations': 200, 'depth': 5, 'learning_rate': 0.07924388721510903, 'l2_leaf_reg': 0.5}. Best is trial 11 with value: 0.9047483087753454.\u001b[0m\n",
      "\u001b[32m[I 2021-11-23 08:47:55,917]\u001b[0m Trial 16 finished with value: 0.9021678264420168 and parameters: {'iterations': 180, 'depth': 7, 'learning_rate': 0.051701644140023414, 'l2_leaf_reg': 0.2}. Best is trial 11 with value: 0.9047483087753454.\u001b[0m\n",
      "\u001b[32m[I 2021-11-23 08:47:56,036]\u001b[0m Trial 17 finished with value: 0.9039438135009368 and parameters: {'iterations': 166, 'depth': 6, 'learning_rate': 0.04001952134128655, 'l2_leaf_reg': 0.5}. Best is trial 11 with value: 0.9047483087753454.\u001b[0m\n",
      "\u001b[32m[I 2021-11-23 08:47:56,117]\u001b[0m Trial 18 finished with value: 0.9017056216241943 and parameters: {'iterations': 190, 'depth': 3, 'learning_rate': 0.06300637803179508, 'l2_leaf_reg': 0.5}. Best is trial 11 with value: 0.9047483087753454.\u001b[0m\n",
      "\u001b[32m[I 2021-11-23 08:47:56,264]\u001b[0m Trial 19 finished with value: 0.90460665498992 and parameters: {'iterations': 170, 'depth': 5, 'learning_rate': 0.030221465854377082, 'l2_leaf_reg': 0.5}. Best is trial 11 with value: 0.9047483087753454.\u001b[0m\n",
      "\u001b[32m[I 2021-11-23 08:47:56,590]\u001b[0m Trial 20 finished with value: 0.9012215245872338 and parameters: {'iterations': 161, 'depth': 7, 'learning_rate': 0.04659483255160447, 'l2_leaf_reg': 0.2}. Best is trial 11 with value: 0.9047483087753454.\u001b[0m\n",
      "\u001b[32m[I 2021-11-23 08:47:56,805]\u001b[0m Trial 21 finished with value: 0.9053214056999508 and parameters: {'iterations': 174, 'depth': 5, 'learning_rate': 0.035281858226089, 'l2_leaf_reg': 0.5}. Best is trial 21 with value: 0.9053214056999508.\u001b[0m\n",
      "\u001b[32m[I 2021-11-23 08:47:57,075]\u001b[0m Trial 22 finished with value: 0.904516458386811 and parameters: {'iterations': 176, 'depth': 6, 'learning_rate': 0.03749055463494106, 'l2_leaf_reg': 0.5}. Best is trial 21 with value: 0.9053214056999508.\u001b[0m\n",
      "\u001b[32m[I 2021-11-23 08:47:57,305]\u001b[0m Trial 23 finished with value: 0.9057429310826464 and parameters: {'iterations': 189, 'depth': 5, 'learning_rate': 0.0347583941359059, 'l2_leaf_reg': 0.5}. Best is trial 23 with value: 0.9057429310826464.\u001b[0m\n",
      "\u001b[32m[I 2021-11-23 08:47:57,497]\u001b[0m Trial 24 finished with value: 0.9046901540583533 and parameters: {'iterations': 192, 'depth': 4, 'learning_rate': 0.04475702001491899, 'l2_leaf_reg': 0.5}. Best is trial 23 with value: 0.9057429310826464.\u001b[0m\n",
      "\u001b[32m[I 2021-11-23 08:47:57,725]\u001b[0m Trial 25 finished with value: 0.903153771052537 and parameters: {'iterations': 185, 'depth': 5, 'learning_rate': 0.051602852861150336, 'l2_leaf_reg': 0.5}. Best is trial 23 with value: 0.9057429310826464.\u001b[0m\n",
      "\u001b[32m[I 2021-11-23 08:47:57,888]\u001b[0m Trial 26 finished with value: 0.9028732006237588 and parameters: {'iterations': 194, 'depth': 3, 'learning_rate': 0.03632828434133537, 'l2_leaf_reg': 0.5}. Best is trial 23 with value: 0.9057429310826464.\u001b[0m\n",
      "\u001b[32m[I 2021-11-23 08:47:58,115]\u001b[0m Trial 27 finished with value: 0.8987601187016089 and parameters: {'iterations': 183, 'depth': 5, 'learning_rate': 0.0994528320754342, 'l2_leaf_reg': 0.5}. Best is trial 23 with value: 0.9057429310826464.\u001b[0m\n",
      "\u001b[32m[I 2021-11-23 08:47:58,258]\u001b[0m Trial 28 finished with value: 0.8996022020203934 and parameters: {'iterations': 158, 'depth': 3, 'learning_rate': 0.030011667575958377, 'l2_leaf_reg': 3}. Best is trial 23 with value: 0.9057429310826464.\u001b[0m\n",
      "\u001b[32m[I 2021-11-23 08:47:58,435]\u001b[0m Trial 29 finished with value: 0.9047275420637764 and parameters: {'iterations': 132, 'depth': 5, 'learning_rate': 0.04203745713813754, 'l2_leaf_reg': 0.2}. Best is trial 23 with value: 0.9057429310826464.\u001b[0m\n",
      "\u001b[32m[I 2021-11-23 08:47:58,516]\u001b[0m Trial 30 finished with value: 0.9036024262448389 and parameters: {'iterations': 138, 'depth': 4, 'learning_rate': 0.033765333759945206, 'l2_leaf_reg': 0.5}. Best is trial 23 with value: 0.9057429310826464.\u001b[0m\n",
      "\u001b[32m[I 2021-11-23 08:47:58,599]\u001b[0m Trial 31 finished with value: 0.9056453911164587 and parameters: {'iterations': 137, 'depth': 5, 'learning_rate': 0.041989609590770104, 'l2_leaf_reg': 0.2}. Best is trial 23 with value: 0.9057429310826464.\u001b[0m\n",
      "\u001b[32m[I 2021-11-23 08:47:58,673]\u001b[0m Trial 32 finished with value: 0.9038266422264134 and parameters: {'iterations': 112, 'depth': 5, 'learning_rate': 0.03864913488471068, 'l2_leaf_reg': 0.2}. Best is trial 23 with value: 0.9057429310826464.\u001b[0m\n"
     ]
    },
    {
     "name": "stderr",
     "output_type": "stream",
     "text": [
      "\u001b[32m[I 2021-11-23 08:47:58,745]\u001b[0m Trial 33 finished with value: 0.9040406287046043 and parameters: {'iterations': 138, 'depth': 4, 'learning_rate': 0.034321091083390036, 'l2_leaf_reg': 0.2}. Best is trial 23 with value: 0.9057429310826464.\u001b[0m\n",
      "\u001b[32m[I 2021-11-23 08:47:58,844]\u001b[0m Trial 34 finished with value: 0.9039205136817897 and parameters: {'iterations': 171, 'depth': 5, 'learning_rate': 0.044266474500641424, 'l2_leaf_reg': 0.2}. Best is trial 23 with value: 0.9057429310826464.\u001b[0m\n",
      "\u001b[32m[I 2021-11-23 08:47:58,955]\u001b[0m Trial 35 finished with value: 0.9043270900638675 and parameters: {'iterations': 154, 'depth': 6, 'learning_rate': 0.04865195446387657, 'l2_leaf_reg': 1}. Best is trial 23 with value: 0.9057429310826464.\u001b[0m\n",
      "\u001b[32m[I 2021-11-23 08:47:59,033]\u001b[0m Trial 36 finished with value: 0.9043644231388372 and parameters: {'iterations': 164, 'depth': 4, 'learning_rate': 0.0565345516793812, 'l2_leaf_reg': 1}. Best is trial 23 with value: 0.9057429310826464.\u001b[0m\n",
      "\u001b[32m[I 2021-11-23 08:47:59,099]\u001b[0m Trial 37 finished with value: 0.9036584885490911 and parameters: {'iterations': 120, 'depth': 4, 'learning_rate': 0.041521535864642786, 'l2_leaf_reg': 3}. Best is trial 23 with value: 0.9057429310826464.\u001b[0m\n",
      "\u001b[32m[I 2021-11-23 08:47:59,206]\u001b[0m Trial 38 finished with value: 0.9042308159887724 and parameters: {'iterations': 139, 'depth': 6, 'learning_rate': 0.03320072513194074, 'l2_leaf_reg': 0.2}. Best is trial 23 with value: 0.9057429310826464.\u001b[0m\n",
      "\u001b[32m[I 2021-11-23 08:47:59,318]\u001b[0m Trial 39 finished with value: 0.9022431836895975 and parameters: {'iterations': 153, 'depth': 6, 'learning_rate': 0.07734554223375112, 'l2_leaf_reg': 1}. Best is trial 23 with value: 0.9057429310826464.\u001b[0m\n",
      "\u001b[32m[I 2021-11-23 08:47:59,493]\u001b[0m Trial 40 finished with value: 0.9026637425702868 and parameters: {'iterations': 195, 'depth': 7, 'learning_rate': 0.037772165339156505, 'l2_leaf_reg': 0.5}. Best is trial 23 with value: 0.9057429310826464.\u001b[0m\n",
      "\u001b[32m[I 2021-11-23 08:47:59,575]\u001b[0m Trial 41 finished with value: 0.9047259226498007 and parameters: {'iterations': 133, 'depth': 5, 'learning_rate': 0.04257221969871958, 'l2_leaf_reg': 0.2}. Best is trial 23 with value: 0.9057429310826464.\u001b[0m\n",
      "\u001b[32m[I 2021-11-23 08:47:59,654]\u001b[0m Trial 42 finished with value: 0.9050021584158802 and parameters: {'iterations': 128, 'depth': 5, 'learning_rate': 0.040483132355511826, 'l2_leaf_reg': 0.2}. Best is trial 23 with value: 0.9057429310826464.\u001b[0m\n",
      "\u001b[32m[I 2021-11-23 08:47:59,730]\u001b[0m Trial 43 finished with value: 0.9038595249066816 and parameters: {'iterations': 119, 'depth': 5, 'learning_rate': 0.033530139230215285, 'l2_leaf_reg': 0.2}. Best is trial 23 with value: 0.9057429310826464.\u001b[0m\n",
      "\u001b[32m[I 2021-11-23 08:47:59,799]\u001b[0m Trial 44 finished with value: 0.9031496859220995 and parameters: {'iterations': 126, 'depth': 4, 'learning_rate': 0.03969769037794621, 'l2_leaf_reg': 0.2}. Best is trial 23 with value: 0.9057429310826464.\u001b[0m\n",
      "\u001b[32m[I 2021-11-23 08:47:59,933]\u001b[0m Trial 45 finished with value: 0.9037326708189687 and parameters: {'iterations': 188, 'depth': 6, 'learning_rate': 0.047242243966840486, 'l2_leaf_reg': 3}. Best is trial 23 with value: 0.9057429310826464.\u001b[0m\n",
      "\u001b[32m[I 2021-11-23 08:48:00,022]\u001b[0m Trial 46 finished with value: 0.9057150024147551 and parameters: {'iterations': 143, 'depth': 5, 'learning_rate': 0.06108235697113463, 'l2_leaf_reg': 0.2}. Best is trial 23 with value: 0.9057429310826464.\u001b[0m\n",
      "\u001b[32m[I 2021-11-23 08:48:00,108]\u001b[0m Trial 47 finished with value: 0.9052028834720368 and parameters: {'iterations': 144, 'depth': 5, 'learning_rate': 0.06389512782164086, 'l2_leaf_reg': 0.2}. Best is trial 23 with value: 0.9057429310826464.\u001b[0m\n",
      "\u001b[32m[I 2021-11-23 08:48:00,186]\u001b[0m Trial 48 finished with value: 0.9035095119750441 and parameters: {'iterations': 143, 'depth': 4, 'learning_rate': 0.06726219497748367, 'l2_leaf_reg': 0.2}. Best is trial 23 with value: 0.9057429310826464.\u001b[0m\n",
      "\u001b[32m[I 2021-11-23 08:48:00,275]\u001b[0m Trial 49 finished with value: 0.9044258349363938 and parameters: {'iterations': 149, 'depth': 5, 'learning_rate': 0.06057197656452952, 'l2_leaf_reg': 0.2}. Best is trial 23 with value: 0.9057429310826464.\u001b[0m\n"
     ]
    }
   ],
   "source": [
    "study_cat= optuna.create_study(direction = 'maximize')\n",
    "study_cat.optimize(objective_cat, n_trials=50)"
   ]
  },
  {
   "cell_type": "code",
   "execution_count": 30,
   "id": "0390c69e",
   "metadata": {
    "execution": {
     "iopub.execute_input": "2021-11-22T17:20:38.034599Z",
     "iopub.status.busy": "2021-11-22T17:20:38.033856Z",
     "iopub.status.idle": "2021-11-22T17:20:38.037719Z",
     "shell.execute_reply": "2021-11-22T17:20:38.038258Z",
     "shell.execute_reply.started": "2021-11-22T17:12:17.962865Z"
    },
    "papermill": {
     "duration": 0.098432,
     "end_time": "2021-11-22T17:20:38.038430",
     "exception": false,
     "start_time": "2021-11-22T17:20:37.939998",
     "status": "completed"
    },
    "tags": []
   },
   "outputs": [],
   "source": [
    "best_param_cat = study_cat.best_params"
   ]
  },
  {
   "cell_type": "code",
   "execution_count": 31,
   "id": "8e6f1745",
   "metadata": {
    "execution": {
     "iopub.execute_input": "2021-11-22T17:20:38.187005Z",
     "iopub.status.busy": "2021-11-22T17:20:38.180529Z",
     "iopub.status.idle": "2021-11-22T17:20:38.189788Z",
     "shell.execute_reply": "2021-11-22T17:20:38.189271Z",
     "shell.execute_reply.started": "2021-11-22T16:57:08.861116Z"
    },
    "papermill": {
     "duration": 0.081654,
     "end_time": "2021-11-22T17:20:38.189945",
     "exception": false,
     "start_time": "2021-11-22T17:20:38.108291",
     "status": "completed"
    },
    "tags": []
   },
   "outputs": [],
   "source": [
    "def objective_xgb(trial):\n",
    "     \n",
    "    n_estimators = trial.suggest_int(\"n_estimators\", 1000, 5000)\n",
    "    max_depth = trial.suggest_int(\"max_depth\", 1, 10)\n",
    "    learning_rate = trial.suggest_float(\"learning_rate\", 1e-6, 1e-1, log=True)\n",
    "    gamma = trial.suggest_float(\"gamma\", 0.1, 1.0, step=0.1)\n",
    "    min_child_weight = trial.suggest_int(\"min_child_weight\", 1, 7, step=2)\n",
    "    subsample = trial.suggest_float(\"subsample\", 0.5, 1.0, step=0.1)\n",
    "    colsample_bytree = trial.suggest_float(\"colsample_bytree\", 0.5, 1.0, step=0.1)\n",
    "    reg_alpha = trial.suggest_float(\"reg_alpha\", 0., 1.0, step=0.1)\n",
    "    reg_lambda = trial.suggest_float(\"reg_lambda\", 0., 1.0, step=0.1)\n",
    "    \n",
    "    \n",
    "    model = xgb.XGBRegressor(n_estimators=n_estimators,\n",
    "                         max_depth=max_depth,\n",
    "                         learning_rate=learning_rate,\n",
    "                         gamma=gamma,\n",
    "                         min_child_weight=min_child_weight,\n",
    "                         colsample_bytree=colsample_bytree,\n",
    "                         subsample=subsample,\n",
    "                         reg_alpha=reg_alpha,\n",
    "                         reg_lambda=reg_lambda,\n",
    "                         n_jobs=-1\n",
    "                         )\n",
    "    \n",
    "    pipe = Pipeline(steps=[\n",
    "        ('step1',trf),\n",
    "        ('step2',StandardScaler()),\n",
    "        ('step3',model)\n",
    "    ])\n",
    "    \n",
    "    pipe.fit(x_train,y_train)\n",
    "    \n",
    "    y_pred = pipe.predict(x_test)\n",
    "    \n",
    "    return r2_score(y_test,y_pred)\n",
    "\n",
    "    "
   ]
  },
  {
   "cell_type": "code",
   "execution_count": 32,
   "id": "4ee3cc09",
   "metadata": {
    "execution": {
     "iopub.execute_input": "2021-11-22T17:20:38.332623Z",
     "iopub.status.busy": "2021-11-22T17:20:38.332003Z",
     "iopub.status.idle": "2021-11-22T17:37:09.865231Z",
     "shell.execute_reply": "2021-11-22T17:37:09.866102Z",
     "shell.execute_reply.started": "2021-11-22T16:57:08.862766Z"
    },
    "papermill": {
     "duration": 991.607297,
     "end_time": "2021-11-22T17:37:09.866400",
     "exception": false,
     "start_time": "2021-11-22T17:20:38.259103",
     "status": "completed"
    },
    "tags": []
   },
   "outputs": [
    {
     "name": "stderr",
     "output_type": "stream",
     "text": [
      "\u001b[32m[I 2021-11-23 08:48:00,435]\u001b[0m A new study created in memory with name: no-name-37e9e6e8-174b-4de8-a80c-9456ced1b06c\u001b[0m\n",
      "\u001b[32m[I 2021-11-23 08:48:07,850]\u001b[0m Trial 0 finished with value: 0.8504436958235855 and parameters: {'n_estimators': 1562, 'max_depth': 9, 'learning_rate': 0.004431075405505217, 'gamma': 0.2, 'min_child_weight': 5, 'subsample': 1.0, 'colsample_bytree': 0.6, 'reg_alpha': 0.5, 'reg_lambda': 1.0}. Best is trial 0 with value: 0.8504436958235855.\u001b[0m\n",
      "\u001b[32m[I 2021-11-23 08:48:21,128]\u001b[0m Trial 1 finished with value: 0.7879454852882417 and parameters: {'n_estimators': 3566, 'max_depth': 1, 'learning_rate': 0.002293137294847606, 'gamma': 0.4, 'min_child_weight': 7, 'subsample': 1.0, 'colsample_bytree': 1.0, 'reg_alpha': 0.5, 'reg_lambda': 0.5}. Best is trial 0 with value: 0.8504436958235855.\u001b[0m\n",
      "\u001b[32m[I 2021-11-23 08:48:47,194]\u001b[0m Trial 2 finished with value: 0.8610322855191307 and parameters: {'n_estimators': 4995, 'max_depth': 8, 'learning_rate': 0.004121465944433248, 'gamma': 0.4, 'min_child_weight': 5, 'subsample': 0.8, 'colsample_bytree': 0.5, 'reg_alpha': 0.7000000000000001, 'reg_lambda': 0.7000000000000001}. Best is trial 2 with value: 0.8610322855191307.\u001b[0m\n",
      "\u001b[32m[I 2021-11-23 08:49:06,674]\u001b[0m Trial 3 finished with value: -1.1274907810064283 and parameters: {'n_estimators': 4171, 'max_depth': 5, 'learning_rate': 1.4806129483586365e-06, 'gamma': 0.2, 'min_child_weight': 3, 'subsample': 0.7, 'colsample_bytree': 1.0, 'reg_alpha': 0.5, 'reg_lambda': 0.0}. Best is trial 2 with value: 0.8610322855191307.\u001b[0m\n",
      "\u001b[32m[I 2021-11-23 08:49:21,348]\u001b[0m Trial 4 finished with value: -1.0532035738300909 and parameters: {'n_estimators': 3776, 'max_depth': 1, 'learning_rate': 8.51313533865936e-06, 'gamma': 1.0, 'min_child_weight': 1, 'subsample': 0.9, 'colsample_bytree': 0.8, 'reg_alpha': 0.8, 'reg_lambda': 0.6000000000000001}. Best is trial 2 with value: 0.8610322855191307.\u001b[0m\n",
      "\u001b[32m[I 2021-11-23 08:49:30,857]\u001b[0m Trial 5 finished with value: -0.9232441786258134 and parameters: {'n_estimators': 2045, 'max_depth': 8, 'learning_rate': 3.119988412322748e-05, 'gamma': 0.1, 'min_child_weight': 1, 'subsample': 0.9, 'colsample_bytree': 0.9, 'reg_alpha': 0.1, 'reg_lambda': 0.7000000000000001}. Best is trial 2 with value: 0.8610322855191307.\u001b[0m\n",
      "\u001b[32m[I 2021-11-23 08:49:44,540]\u001b[0m Trial 6 finished with value: 0.8399511666789536 and parameters: {'n_estimators': 2812, 'max_depth': 6, 'learning_rate': 0.041715123496172256, 'gamma': 0.6, 'min_child_weight': 7, 'subsample': 0.7, 'colsample_bytree': 1.0, 'reg_alpha': 0.4, 'reg_lambda': 0.8}. Best is trial 2 with value: 0.8610322855191307.\u001b[0m\n",
      "\u001b[32m[I 2021-11-23 08:50:09,697]\u001b[0m Trial 7 finished with value: -1.113806426530084 and parameters: {'n_estimators': 4203, 'max_depth': 7, 'learning_rate': 2.675061756862298e-06, 'gamma': 0.9, 'min_child_weight': 5, 'subsample': 0.8, 'colsample_bytree': 0.8, 'reg_alpha': 0.30000000000000004, 'reg_lambda': 0.7000000000000001}. Best is trial 2 with value: 0.8610322855191307.\u001b[0m\n",
      "\u001b[32m[I 2021-11-23 08:50:22,693]\u001b[0m Trial 8 finished with value: -1.0813358559843587 and parameters: {'n_estimators': 2574, 'max_depth': 2, 'learning_rate': 9.263866496960542e-06, 'gamma': 0.7000000000000001, 'min_child_weight': 3, 'subsample': 0.9, 'colsample_bytree': 0.6, 'reg_alpha': 0.9, 'reg_lambda': 0.7000000000000001}. Best is trial 2 with value: 0.8610322855191307.\u001b[0m\n",
      "\u001b[32m[I 2021-11-23 08:50:42,983]\u001b[0m Trial 9 finished with value: 0.8424379831084224 and parameters: {'n_estimators': 4433, 'max_depth': 5, 'learning_rate': 0.05545586515966064, 'gamma': 0.1, 'min_child_weight': 3, 'subsample': 0.6, 'colsample_bytree': 0.7, 'reg_alpha': 1.0, 'reg_lambda': 0.8}. Best is trial 2 with value: 0.8610322855191307.\u001b[0m\n",
      "\u001b[32m[I 2021-11-23 08:51:06,541]\u001b[0m Trial 10 finished with value: 0.2834432564479069 and parameters: {'n_estimators': 4808, 'max_depth': 10, 'learning_rate': 0.00018791806230545284, 'gamma': 0.4, 'min_child_weight': 5, 'subsample': 0.5, 'colsample_bytree': 0.5, 'reg_alpha': 0.7000000000000001, 'reg_lambda': 0.30000000000000004}. Best is trial 2 with value: 0.8610322855191307.\u001b[0m\n",
      "\u001b[32m[I 2021-11-23 08:51:12,721]\u001b[0m Trial 11 finished with value: 0.8311011223263634 and parameters: {'n_estimators': 1256, 'max_depth': 10, 'learning_rate': 0.003661042189278196, 'gamma': 0.30000000000000004, 'min_child_weight': 5, 'subsample': 1.0, 'colsample_bytree': 0.5, 'reg_alpha': 0.7000000000000001, 'reg_lambda': 1.0}. Best is trial 2 with value: 0.8610322855191307.\u001b[0m\n",
      "\u001b[32m[I 2021-11-23 08:51:18,710]\u001b[0m Trial 12 finished with value: 0.8295821662294278 and parameters: {'n_estimators': 1065, 'max_depth': 8, 'learning_rate': 0.003675041577393489, 'gamma': 0.5, 'min_child_weight': 5, 'subsample': 0.8, 'colsample_bytree': 0.6, 'reg_alpha': 0.2, 'reg_lambda': 1.0}. Best is trial 2 with value: 0.8610322855191307.\u001b[0m\n",
      "\u001b[32m[I 2021-11-23 08:51:30,256]\u001b[0m Trial 13 finished with value: 0.5238701104181447 and parameters: {'n_estimators': 1770, 'max_depth': 9, 'learning_rate': 0.0007646107391907099, 'gamma': 0.30000000000000004, 'min_child_weight': 7, 'subsample': 0.6, 'colsample_bytree': 0.6, 'reg_alpha': 0.7000000000000001, 'reg_lambda': 0.4}. Best is trial 2 with value: 0.8610322855191307.\u001b[0m\n",
      "\u001b[32m[I 2021-11-23 08:51:45,182]\u001b[0m Trial 14 finished with value: 0.8588996771024313 and parameters: {'n_estimators': 3307, 'max_depth': 7, 'learning_rate': 0.01166360455002267, 'gamma': 0.7000000000000001, 'min_child_weight': 5, 'subsample': 1.0, 'colsample_bytree': 0.5, 'reg_alpha': 0.6000000000000001, 'reg_lambda': 0.9}. Best is trial 2 with value: 0.8610322855191307.\u001b[0m\n",
      "\u001b[32m[I 2021-11-23 08:52:11,023]\u001b[0m Trial 15 finished with value: 0.8624926459723687 and parameters: {'n_estimators': 4980, 'max_depth': 4, 'learning_rate': 0.01551270595149159, 'gamma': 0.8, 'min_child_weight': 3, 'subsample': 0.8, 'colsample_bytree': 0.5, 'reg_alpha': 0.0, 'reg_lambda': 0.2}. Best is trial 15 with value: 0.8624926459723687.\u001b[0m\n",
      "\u001b[32m[I 2021-11-23 08:52:34,051]\u001b[0m Trial 16 finished with value: 0.8693141850696261 and parameters: {'n_estimators': 4944, 'max_depth': 3, 'learning_rate': 0.018819038460474835, 'gamma': 0.8, 'min_child_weight': 3, 'subsample': 0.8, 'colsample_bytree': 0.7, 'reg_alpha': 0.0, 'reg_lambda': 0.2}. Best is trial 16 with value: 0.8693141850696261.\u001b[0m\n",
      "\u001b[32m[I 2021-11-23 08:52:59,875]\u001b[0m Trial 17 finished with value: 0.8367095607884955 and parameters: {'n_estimators': 4581, 'max_depth': 3, 'learning_rate': 0.0901115799574286, 'gamma': 0.8, 'min_child_weight': 1, 'subsample': 0.7, 'colsample_bytree': 0.7, 'reg_alpha': 0.0, 'reg_lambda': 0.1}. Best is trial 16 with value: 0.8693141850696261.\u001b[0m\n",
      "\u001b[32m[I 2021-11-23 08:53:27,095]\u001b[0m Trial 18 finished with value: 0.8630801905964969 and parameters: {'n_estimators': 3820, 'max_depth': 4, 'learning_rate': 0.0180120532332298, 'gamma': 1.0, 'min_child_weight': 3, 'subsample': 0.8, 'colsample_bytree': 0.7, 'reg_alpha': 0.0, 'reg_lambda': 0.2}. Best is trial 16 with value: 0.8693141850696261.\u001b[0m\n",
      "\u001b[32m[I 2021-11-23 08:53:48,800]\u001b[0m Trial 19 finished with value: 0.4638620958535198 and parameters: {'n_estimators': 3833, 'max_depth': 3, 'learning_rate': 0.0002656940720465917, 'gamma': 1.0, 'min_child_weight': 3, 'subsample': 0.6, 'colsample_bytree': 0.7, 'reg_alpha': 0.2, 'reg_lambda': 0.2}. Best is trial 16 with value: 0.8693141850696261.\u001b[0m\n",
      "\u001b[32m[I 2021-11-23 08:54:09,797]\u001b[0m Trial 20 finished with value: 0.8717362606442532 and parameters: {'n_estimators': 3239, 'max_depth': 4, 'learning_rate': 0.0008372285876259456, 'gamma': 0.9, 'min_child_weight': 1, 'subsample': 0.9, 'colsample_bytree': 0.8, 'reg_alpha': 0.2, 'reg_lambda': 0.0}. Best is trial 20 with value: 0.8717362606442532.\u001b[0m\n",
      "\u001b[32m[I 2021-11-23 08:54:24,590]\u001b[0m Trial 21 finished with value: 0.8700680134365973 and parameters: {'n_estimators': 3188, 'max_depth': 4, 'learning_rate': 0.0008356551195294183, 'gamma': 0.9, 'min_child_weight': 1, 'subsample': 0.9, 'colsample_bytree': 0.8, 'reg_alpha': 0.1, 'reg_lambda': 0.0}. Best is trial 20 with value: 0.8717362606442532.\u001b[0m\n",
      "\u001b[32m[I 2021-11-23 08:54:35,358]\u001b[0m Trial 22 finished with value: -0.4186013973184679 and parameters: {'n_estimators': 2441, 'max_depth': 3, 'learning_rate': 9.63130012821561e-05, 'gamma': 0.9, 'min_child_weight': 1, 'subsample': 0.9, 'colsample_bytree': 0.9, 'reg_alpha': 0.2, 'reg_lambda': 0.0}. Best is trial 20 with value: 0.8717362606442532.\u001b[0m\n"
     ]
    },
    {
     "name": "stderr",
     "output_type": "stream",
     "text": [
      "\u001b[32m[I 2021-11-23 08:54:49,591]\u001b[0m Trial 23 finished with value: 0.869058055465936 and parameters: {'n_estimators': 3101, 'max_depth': 4, 'learning_rate': 0.000851524244791393, 'gamma': 0.8, 'min_child_weight': 1, 'subsample': 0.9, 'colsample_bytree': 0.8, 'reg_alpha': 0.1, 'reg_lambda': 0.1}. Best is trial 20 with value: 0.8717362606442532.\u001b[0m\n",
      "\u001b[32m[I 2021-11-23 08:55:09,754]\u001b[0m Trial 24 finished with value: 0.8794692121271265 and parameters: {'n_estimators': 3333, 'max_depth': 5, 'learning_rate': 0.0013839562075499607, 'gamma': 0.9, 'min_child_weight': 1, 'subsample': 0.9, 'colsample_bytree': 0.9, 'reg_alpha': 0.1, 'reg_lambda': 0.0}. Best is trial 24 with value: 0.8794692121271265.\u001b[0m\n",
      "\u001b[32m[I 2021-11-23 08:55:28,223]\u001b[0m Trial 25 finished with value: 0.8701876497569554 and parameters: {'n_estimators': 3400, 'max_depth': 6, 'learning_rate': 0.0009672410955335357, 'gamma': 0.9, 'min_child_weight': 1, 'subsample': 0.9, 'colsample_bytree': 0.9, 'reg_alpha': 0.30000000000000004, 'reg_lambda': 0.0}. Best is trial 24 with value: 0.8794692121271265.\u001b[0m\n",
      "\u001b[32m[I 2021-11-23 08:55:46,082]\u001b[0m Trial 26 finished with value: -0.31002052580168193 and parameters: {'n_estimators': 3419, 'max_depth': 6, 'learning_rate': 8.062616368903333e-05, 'gamma': 0.7000000000000001, 'min_child_weight': 1, 'subsample': 1.0, 'colsample_bytree': 0.9, 'reg_alpha': 0.30000000000000004, 'reg_lambda': 0.1}. Best is trial 24 with value: 0.8794692121271265.\u001b[0m\n",
      "\u001b[32m[I 2021-11-23 08:56:04,280]\u001b[0m Trial 27 finished with value: 0.8875574490362665 and parameters: {'n_estimators': 2830, 'max_depth': 5, 'learning_rate': 0.001165980146394864, 'gamma': 0.9, 'min_child_weight': 1, 'subsample': 0.9, 'colsample_bytree': 0.9, 'reg_alpha': 0.30000000000000004, 'reg_lambda': 0.30000000000000004}. Best is trial 27 with value: 0.8875574490362665.\u001b[0m\n",
      "\u001b[32m[I 2021-11-23 08:56:18,007]\u001b[0m Trial 28 finished with value: 0.6484220405185048 and parameters: {'n_estimators': 2857, 'max_depth': 5, 'learning_rate': 0.0003911447434234669, 'gamma': 0.6, 'min_child_weight': 1, 'subsample': 0.9, 'colsample_bytree': 0.9, 'reg_alpha': 0.4, 'reg_lambda': 0.4}. Best is trial 27 with value: 0.8875574490362665.\u001b[0m\n",
      "\u001b[32m[I 2021-11-23 08:56:30,626]\u001b[0m Trial 29 finished with value: 0.8935894427239154 and parameters: {'n_estimators': 2248, 'max_depth': 2, 'learning_rate': 0.0018798513299472116, 'gamma': 1.0, 'min_child_weight': 1, 'subsample': 1.0, 'colsample_bytree': 0.8, 'reg_alpha': 0.4, 'reg_lambda': 0.30000000000000004}. Best is trial 29 with value: 0.8935894427239154.\u001b[0m\n",
      "\u001b[32m[I 2021-11-23 08:56:40,133]\u001b[0m Trial 30 finished with value: 0.8969610238782618 and parameters: {'n_estimators': 2156, 'max_depth': 2, 'learning_rate': 0.0020999146244938052, 'gamma': 1.0, 'min_child_weight': 1, 'subsample': 1.0, 'colsample_bytree': 0.9, 'reg_alpha': 0.4, 'reg_lambda': 0.4}. Best is trial 30 with value: 0.8969610238782618.\u001b[0m\n",
      "\u001b[32m[I 2021-11-23 08:56:49,717]\u001b[0m Trial 31 finished with value: 0.8973926339874764 and parameters: {'n_estimators': 2186, 'max_depth': 2, 'learning_rate': 0.002155998721054814, 'gamma': 1.0, 'min_child_weight': 1, 'subsample': 1.0, 'colsample_bytree': 0.9, 'reg_alpha': 0.4, 'reg_lambda': 0.4}. Best is trial 31 with value: 0.8973926339874764.\u001b[0m\n",
      "\u001b[32m[I 2021-11-23 08:56:59,287]\u001b[0m Trial 32 finished with value: 0.8938455925256451 and parameters: {'n_estimators': 2297, 'max_depth': 2, 'learning_rate': 0.001749172962809161, 'gamma': 1.0, 'min_child_weight': 1, 'subsample': 1.0, 'colsample_bytree': 1.0, 'reg_alpha': 0.4, 'reg_lambda': 0.4}. Best is trial 31 with value: 0.8973926339874764.\u001b[0m\n",
      "\u001b[32m[I 2021-11-23 08:57:08,503]\u001b[0m Trial 33 finished with value: 0.7957554477874591 and parameters: {'n_estimators': 2019, 'max_depth': 1, 'learning_rate': 0.006885406787809466, 'gamma': 1.0, 'min_child_weight': 1, 'subsample': 1.0, 'colsample_bytree': 1.0, 'reg_alpha': 0.4, 'reg_lambda': 0.5}. Best is trial 31 with value: 0.8973926339874764.\u001b[0m\n",
      "\u001b[32m[I 2021-11-23 08:57:18,317]\u001b[0m Trial 34 finished with value: 0.8968080463480564 and parameters: {'n_estimators': 2226, 'max_depth': 2, 'learning_rate': 0.002304034536082175, 'gamma': 1.0, 'min_child_weight': 3, 'subsample': 1.0, 'colsample_bytree': 1.0, 'reg_alpha': 0.6000000000000001, 'reg_lambda': 0.4}. Best is trial 31 with value: 0.8973926339874764.\u001b[0m\n",
      "\u001b[32m[I 2021-11-23 08:57:24,602]\u001b[0m Trial 35 finished with value: 0.8987259347073955 and parameters: {'n_estimators': 1656, 'max_depth': 2, 'learning_rate': 0.007142226503777252, 'gamma': 1.0, 'min_child_weight': 3, 'subsample': 1.0, 'colsample_bytree': 1.0, 'reg_alpha': 0.5, 'reg_lambda': 0.5}. Best is trial 35 with value: 0.8987259347073955.\u001b[0m\n",
      "\u001b[32m[I 2021-11-23 08:57:31,611]\u001b[0m Trial 36 finished with value: 0.7885459907265309 and parameters: {'n_estimators': 1483, 'max_depth': 1, 'learning_rate': 0.005628904833302233, 'gamma': 1.0, 'min_child_weight': 3, 'subsample': 1.0, 'colsample_bytree': 1.0, 'reg_alpha': 0.6000000000000001, 'reg_lambda': 0.6000000000000001}. Best is trial 35 with value: 0.8987259347073955.\u001b[0m\n",
      "\u001b[32m[I 2021-11-23 08:57:38,698]\u001b[0m Trial 37 finished with value: 0.8995615477018344 and parameters: {'n_estimators': 1740, 'max_depth': 2, 'learning_rate': 0.01069289990368449, 'gamma': 1.0, 'min_child_weight': 3, 'subsample': 1.0, 'colsample_bytree': 1.0, 'reg_alpha': 0.6000000000000001, 'reg_lambda': 0.5}. Best is trial 37 with value: 0.8995615477018344.\u001b[0m\n",
      "\u001b[32m[I 2021-11-23 08:57:45,989]\u001b[0m Trial 38 finished with value: 0.7935627622418624 and parameters: {'n_estimators': 1687, 'max_depth': 1, 'learning_rate': 0.030794747262511572, 'gamma': 0.8, 'min_child_weight': 3, 'subsample': 1.0, 'colsample_bytree': 1.0, 'reg_alpha': 0.5, 'reg_lambda': 0.5}. Best is trial 37 with value: 0.8995615477018344.\u001b[0m\n",
      "\u001b[32m[I 2021-11-23 08:57:58,860]\u001b[0m Trial 39 finished with value: 0.8994378503467432 and parameters: {'n_estimators': 1984, 'max_depth': 2, 'learning_rate': 0.008859378635166138, 'gamma': 0.9, 'min_child_weight': 3, 'subsample': 1.0, 'colsample_bytree': 1.0, 'reg_alpha': 0.5, 'reg_lambda': 0.5}. Best is trial 37 with value: 0.8995615477018344.\u001b[0m\n",
      "\u001b[32m[I 2021-11-23 08:58:06,868]\u001b[0m Trial 40 finished with value: 0.7961300783039995 and parameters: {'n_estimators': 1904, 'max_depth': 1, 'learning_rate': 0.010702380342555575, 'gamma': 0.9, 'min_child_weight': 3, 'subsample': 1.0, 'colsample_bytree': 1.0, 'reg_alpha': 0.6000000000000001, 'reg_lambda': 0.6000000000000001}. Best is trial 37 with value: 0.8995615477018344.\u001b[0m\n",
      "\u001b[32m[I 2021-11-23 08:58:13,220]\u001b[0m Trial 41 finished with value: 0.8985848989477183 and parameters: {'n_estimators': 1319, 'max_depth': 2, 'learning_rate': 0.007512635620678284, 'gamma': 1.0, 'min_child_weight': 3, 'subsample': 1.0, 'colsample_bytree': 1.0, 'reg_alpha': 0.5, 'reg_lambda': 0.5}. Best is trial 37 with value: 0.8995615477018344.\u001b[0m\n",
      "\u001b[32m[I 2021-11-23 08:58:19,151]\u001b[0m Trial 42 finished with value: 0.898722671720743 and parameters: {'n_estimators': 1445, 'max_depth': 2, 'learning_rate': 0.00872636225782014, 'gamma': 1.0, 'min_child_weight': 3, 'subsample': 1.0, 'colsample_bytree': 1.0, 'reg_alpha': 0.5, 'reg_lambda': 0.5}. Best is trial 37 with value: 0.8995615477018344.\u001b[0m\n",
      "\u001b[32m[I 2021-11-23 08:58:25,701]\u001b[0m Trial 43 finished with value: 0.8948985002739709 and parameters: {'n_estimators': 1478, 'max_depth': 3, 'learning_rate': 0.00830652694391706, 'gamma': 0.9, 'min_child_weight': 3, 'subsample': 1.0, 'colsample_bytree': 1.0, 'reg_alpha': 0.5, 'reg_lambda': 0.5}. Best is trial 37 with value: 0.8995615477018344.\u001b[0m\n",
      "\u001b[32m[I 2021-11-23 08:58:30,797]\u001b[0m Trial 44 finished with value: 0.8970877680582181 and parameters: {'n_estimators': 1217, 'max_depth': 2, 'learning_rate': 0.02397441454196742, 'gamma': 1.0, 'min_child_weight': 3, 'subsample': 1.0, 'colsample_bytree': 1.0, 'reg_alpha': 0.8, 'reg_lambda': 0.6000000000000001}. Best is trial 37 with value: 0.8995615477018344.\u001b[0m\n",
      "\u001b[32m[I 2021-11-23 08:58:36,170]\u001b[0m Trial 45 finished with value: 0.7925844952567462 and parameters: {'n_estimators': 1350, 'max_depth': 1, 'learning_rate': 0.046484755732101375, 'gamma': 0.8, 'min_child_weight': 3, 'subsample': 1.0, 'colsample_bytree': 1.0, 'reg_alpha': 0.5, 'reg_lambda': 0.5}. Best is trial 37 with value: 0.8995615477018344.\u001b[0m\n"
     ]
    },
    {
     "name": "stderr",
     "output_type": "stream",
     "text": [
      "\u001b[32m[I 2021-11-23 08:58:44,504]\u001b[0m Trial 46 finished with value: 0.901142095324565 and parameters: {'n_estimators': 1666, 'max_depth': 3, 'learning_rate': 0.0034024901312777927, 'gamma': 0.9, 'min_child_weight': 3, 'subsample': 0.5, 'colsample_bytree': 1.0, 'reg_alpha': 0.6000000000000001, 'reg_lambda': 0.5}. Best is trial 46 with value: 0.901142095324565.\u001b[0m\n",
      "\u001b[32m[I 2021-11-23 08:58:51,666]\u001b[0m Trial 47 finished with value: 0.9013164695888355 and parameters: {'n_estimators': 1688, 'max_depth': 3, 'learning_rate': 0.0033827696193043095, 'gamma': 0.7000000000000001, 'min_child_weight': 5, 'subsample': 0.5, 'colsample_bytree': 1.0, 'reg_alpha': 0.8, 'reg_lambda': 0.6000000000000001}. Best is trial 47 with value: 0.9013164695888355.\u001b[0m\n",
      "\u001b[32m[I 2021-11-23 08:58:58,882]\u001b[0m Trial 48 finished with value: 0.9004752466328826 and parameters: {'n_estimators': 1711, 'max_depth': 3, 'learning_rate': 0.00400038689069278, 'gamma': 0.7000000000000001, 'min_child_weight': 5, 'subsample': 0.5, 'colsample_bytree': 1.0, 'reg_alpha': 0.8, 'reg_lambda': 0.6000000000000001}. Best is trial 47 with value: 0.9013164695888355.\u001b[0m\n",
      "\u001b[32m[I 2021-11-23 08:59:06,960]\u001b[0m Trial 49 finished with value: 0.8994507966651277 and parameters: {'n_estimators': 1831, 'max_depth': 3, 'learning_rate': 0.004784465836422627, 'gamma': 0.6, 'min_child_weight': 5, 'subsample': 0.5, 'colsample_bytree': 1.0, 'reg_alpha': 0.8, 'reg_lambda': 0.8}. Best is trial 47 with value: 0.9013164695888355.\u001b[0m\n",
      "\u001b[32m[I 2021-11-23 08:59:11,806]\u001b[0m Trial 50 finished with value: 0.8984174461184585 and parameters: {'n_estimators': 1018, 'max_depth': 3, 'learning_rate': 0.003448705648309477, 'gamma': 0.5, 'min_child_weight': 7, 'subsample': 0.5, 'colsample_bytree': 0.9, 'reg_alpha': 0.9, 'reg_lambda': 0.8}. Best is trial 47 with value: 0.9013164695888355.\u001b[0m\n",
      "\u001b[32m[I 2021-11-23 08:59:24,696]\u001b[0m Trial 51 finished with value: 0.9001406878451077 and parameters: {'n_estimators': 1823, 'max_depth': 3, 'learning_rate': 0.00399460177969753, 'gamma': 0.7000000000000001, 'min_child_weight': 5, 'subsample': 0.5, 'colsample_bytree': 1.0, 'reg_alpha': 0.8, 'reg_lambda': 0.7000000000000001}. Best is trial 47 with value: 0.9013164695888355.\u001b[0m\n",
      "\u001b[32m[I 2021-11-23 08:59:32,571]\u001b[0m Trial 52 finished with value: 0.5418841660144046 and parameters: {'n_estimators': 1817, 'max_depth': 3, 'learning_rate': 0.0004894802811639758, 'gamma': 0.6, 'min_child_weight': 5, 'subsample': 0.5, 'colsample_bytree': 1.0, 'reg_alpha': 0.8, 'reg_lambda': 0.7000000000000001}. Best is trial 47 with value: 0.9013164695888355.\u001b[0m\n",
      "\u001b[32m[I 2021-11-23 08:59:40,503]\u001b[0m Trial 53 finished with value: 0.8993391049057319 and parameters: {'n_estimators': 1609, 'max_depth': 4, 'learning_rate': 0.0042722076568336665, 'gamma': 0.7000000000000001, 'min_child_weight': 5, 'subsample': 0.5, 'colsample_bytree': 1.0, 'reg_alpha': 0.9, 'reg_lambda': 0.8}. Best is trial 47 with value: 0.9013164695888355.\u001b[0m\n",
      "\u001b[32m[I 2021-11-23 08:59:57,180]\u001b[0m Trial 54 finished with value: 0.8979324823271152 and parameters: {'n_estimators': 2445, 'max_depth': 3, 'learning_rate': 0.003574241558323969, 'gamma': 0.6, 'min_child_weight': 5, 'subsample': 0.6, 'colsample_bytree': 1.0, 'reg_alpha': 1.0, 'reg_lambda': 0.6000000000000001}. Best is trial 47 with value: 0.9013164695888355.\u001b[0m\n",
      "\u001b[32m[I 2021-11-23 09:00:05,921]\u001b[0m Trial 55 finished with value: 0.860557973013848 and parameters: {'n_estimators': 1813, 'max_depth': 3, 'learning_rate': 0.09267846623637167, 'gamma': 0.5, 'min_child_weight': 5, 'subsample': 0.5, 'colsample_bytree': 1.0, 'reg_alpha': 0.7000000000000001, 'reg_lambda': 0.9}. Best is trial 47 with value: 0.9013164695888355.\u001b[0m\n",
      "\u001b[32m[I 2021-11-23 09:00:11,733]\u001b[0m Trial 56 finished with value: 0.8887581289154592 and parameters: {'n_estimators': 1194, 'max_depth': 4, 'learning_rate': 0.013066994033289, 'gamma': 0.7000000000000001, 'min_child_weight': 5, 'subsample': 0.5, 'colsample_bytree': 1.0, 'reg_alpha': 0.8, 'reg_lambda': 0.7000000000000001}. Best is trial 47 with value: 0.9013164695888355.\u001b[0m\n",
      "\u001b[32m[I 2021-11-23 09:00:23,625]\u001b[0m Trial 57 finished with value: 0.8715678009837072 and parameters: {'n_estimators': 2614, 'max_depth': 3, 'learning_rate': 0.032959135415812246, 'gamma': 0.7000000000000001, 'min_child_weight': 7, 'subsample': 0.6, 'colsample_bytree': 0.9, 'reg_alpha': 0.9, 'reg_lambda': 0.9}. Best is trial 47 with value: 0.9013164695888355.\u001b[0m\n",
      "\u001b[32m[I 2021-11-23 09:00:30,879]\u001b[0m Trial 58 finished with value: 0.8990079377416298 and parameters: {'n_estimators': 1575, 'max_depth': 4, 'learning_rate': 0.00281304384555087, 'gamma': 0.6, 'min_child_weight': 5, 'subsample': 0.6, 'colsample_bytree': 0.9, 'reg_alpha': 0.7000000000000001, 'reg_lambda': 0.7000000000000001}. Best is trial 47 with value: 0.9013164695888355.\u001b[0m\n",
      "\u001b[32m[I 2021-11-23 09:00:39,605]\u001b[0m Trial 59 finished with value: 0.8992970301763784 and parameters: {'n_estimators': 1892, 'max_depth': 3, 'learning_rate': 0.0046658510160284454, 'gamma': 0.5, 'min_child_weight': 5, 'subsample': 0.5, 'colsample_bytree': 1.0, 'reg_alpha': 0.8, 'reg_lambda': 0.6000000000000001}. Best is trial 47 with value: 0.9013164695888355.\u001b[0m\n",
      "\u001b[32m[I 2021-11-23 09:00:49,034]\u001b[0m Trial 60 finished with value: -1.1421167481458294 and parameters: {'n_estimators': 2076, 'max_depth': 4, 'learning_rate': 1.3319157726499042e-06, 'gamma': 0.4, 'min_child_weight': 5, 'subsample': 0.5, 'colsample_bytree': 1.0, 'reg_alpha': 1.0, 'reg_lambda': 0.7000000000000001}. Best is trial 47 with value: 0.9013164695888355.\u001b[0m\n",
      "\u001b[32m[I 2021-11-23 09:00:57,304]\u001b[0m Trial 61 finished with value: 0.8943462887660474 and parameters: {'n_estimators': 1962, 'max_depth': 2, 'learning_rate': 0.018658736574437104, 'gamma': 0.7000000000000001, 'min_child_weight': 5, 'subsample': 0.5, 'colsample_bytree': 1.0, 'reg_alpha': 0.7000000000000001, 'reg_lambda': 0.6000000000000001}. Best is trial 47 with value: 0.9013164695888355.\u001b[0m\n",
      "\u001b[32m[I 2021-11-23 09:01:09,752]\u001b[0m Trial 62 finished with value: 0.8904097264042621 and parameters: {'n_estimators': 1735, 'max_depth': 3, 'learning_rate': 0.011772065265676321, 'gamma': 0.8, 'min_child_weight': 5, 'subsample': 0.7, 'colsample_bytree': 1.0, 'reg_alpha': 0.6000000000000001, 'reg_lambda': 0.7000000000000001}. Best is trial 47 with value: 0.9013164695888355.\u001b[0m\n",
      "\u001b[32m[I 2021-11-23 09:01:19,274]\u001b[0m Trial 63 finished with value: -1.0534031197993499 and parameters: {'n_estimators': 2049, 'max_depth': 3, 'learning_rate': 1.2484679593320032e-05, 'gamma': 0.6, 'min_child_weight': 5, 'subsample': 0.5, 'colsample_bytree': 1.0, 'reg_alpha': 0.8, 'reg_lambda': 0.8}. Best is trial 47 with value: 0.9013164695888355.\u001b[0m\n",
      "\u001b[32m[I 2021-11-23 09:01:26,985]\u001b[0m Trial 64 finished with value: 0.9018273292301814 and parameters: {'n_estimators': 1541, 'max_depth': 2, 'learning_rate': 0.005561477818478154, 'gamma': 0.8, 'min_child_weight': 7, 'subsample': 0.5, 'colsample_bytree': 0.9, 'reg_alpha': 0.7000000000000001, 'reg_lambda': 0.6000000000000001}. Best is trial 64 with value: 0.9018273292301814.\u001b[0m\n",
      "\u001b[32m[I 2021-11-23 09:01:32,037]\u001b[0m Trial 65 finished with value: 0.06389235165266782 and parameters: {'n_estimators': 1110, 'max_depth': 1, 'learning_rate': 0.0005460083628093877, 'gamma': 0.8, 'min_child_weight': 7, 'subsample': 0.5, 'colsample_bytree': 0.9, 'reg_alpha': 0.7000000000000001, 'reg_lambda': 0.6000000000000001}. Best is trial 64 with value: 0.9018273292301814.\u001b[0m\n",
      "\u001b[32m[I 2021-11-23 09:01:39,572]\u001b[0m Trial 66 finished with value: 0.8495314619369979 and parameters: {'n_estimators': 1426, 'max_depth': 9, 'learning_rate': 0.0014316969777476334, 'gamma': 0.7000000000000001, 'min_child_weight': 7, 'subsample': 0.6, 'colsample_bytree': 0.9, 'reg_alpha': 0.9, 'reg_lambda': 0.7000000000000001}. Best is trial 64 with value: 0.9018273292301814.\u001b[0m\n",
      "\u001b[32m[I 2021-11-23 09:01:47,612]\u001b[0m Trial 67 finished with value: 0.9000871272486147 and parameters: {'n_estimators': 1559, 'max_depth': 3, 'learning_rate': 0.005355437130476779, 'gamma': 0.7000000000000001, 'min_child_weight': 7, 'subsample': 0.5, 'colsample_bytree': 0.9, 'reg_alpha': 0.7000000000000001, 'reg_lambda': 0.8}. Best is trial 64 with value: 0.9018273292301814.\u001b[0m\n",
      "\u001b[32m[I 2021-11-23 09:01:59,972]\u001b[0m Trial 68 finished with value: 0.8907940138713645 and parameters: {'n_estimators': 1564, 'max_depth': 7, 'learning_rate': 0.0032355103579665375, 'gamma': 0.8, 'min_child_weight': 7, 'subsample': 0.6, 'colsample_bytree': 0.8, 'reg_alpha': 0.7000000000000001, 'reg_lambda': 0.6000000000000001}. Best is trial 64 with value: 0.9018273292301814.\u001b[0m\n"
     ]
    },
    {
     "name": "stderr",
     "output_type": "stream",
     "text": [
      "\u001b[32m[I 2021-11-23 09:02:07,607]\u001b[0m Trial 69 finished with value: -0.07298045161278233 and parameters: {'n_estimators': 1658, 'max_depth': 4, 'learning_rate': 0.00024641762503846735, 'gamma': 0.7000000000000001, 'min_child_weight': 7, 'subsample': 0.5, 'colsample_bytree': 0.9, 'reg_alpha': 0.6000000000000001, 'reg_lambda': 0.9}. Best is trial 64 with value: 0.9018273292301814.\u001b[0m\n",
      "\u001b[32m[I 2021-11-23 09:02:14,079]\u001b[0m Trial 70 finished with value: -1.1417973518662707 and parameters: {'n_estimators': 1304, 'max_depth': 5, 'learning_rate': 2.473337344613793e-06, 'gamma': 0.7000000000000001, 'min_child_weight': 7, 'subsample': 0.5, 'colsample_bytree': 0.8, 'reg_alpha': 0.7000000000000001, 'reg_lambda': 0.6000000000000001}. Best is trial 64 with value: 0.9018273292301814.\u001b[0m\n",
      "\u001b[32m[I 2021-11-23 09:02:21,781]\u001b[0m Trial 71 finished with value: 0.8980354498157667 and parameters: {'n_estimators': 1854, 'max_depth': 3, 'learning_rate': 0.006067260772211996, 'gamma': 0.6, 'min_child_weight': 7, 'subsample': 0.5, 'colsample_bytree': 1.0, 'reg_alpha': 0.8, 'reg_lambda': 0.8}. Best is trial 64 with value: 0.9018273292301814.\u001b[0m\n",
      "\u001b[32m[I 2021-11-23 09:02:30,263]\u001b[0m Trial 72 finished with value: 0.899670011358502 and parameters: {'n_estimators': 1768, 'max_depth': 3, 'learning_rate': 0.004863536660698135, 'gamma': 0.8, 'min_child_weight': 5, 'subsample': 0.5, 'colsample_bytree': 0.9, 'reg_alpha': 0.8, 'reg_lambda': 0.8}. Best is trial 64 with value: 0.9018273292301814.\u001b[0m\n",
      "\u001b[32m[I 2021-11-23 09:02:40,815]\u001b[0m Trial 73 finished with value: 0.9009497663536397 and parameters: {'n_estimators': 2354, 'max_depth': 2, 'learning_rate': 0.0025227572789568763, 'gamma': 0.8, 'min_child_weight': 5, 'subsample': 0.5, 'colsample_bytree': 0.9, 'reg_alpha': 0.8, 'reg_lambda': 0.7000000000000001}. Best is trial 64 with value: 0.9018273292301814.\u001b[0m\n",
      "\u001b[32m[I 2021-11-23 09:02:51,608]\u001b[0m Trial 74 finished with value: 0.8983491754139534 and parameters: {'n_estimators': 2392, 'max_depth': 4, 'learning_rate': 0.001448543472120019, 'gamma': 0.8, 'min_child_weight': 5, 'subsample': 0.5, 'colsample_bytree': 0.9, 'reg_alpha': 0.9, 'reg_lambda': 0.8}. Best is trial 64 with value: 0.9018273292301814.\u001b[0m\n",
      "\u001b[32m[I 2021-11-23 09:03:01,588]\u001b[0m Trial 75 finished with value: 0.9004701397609511 and parameters: {'n_estimators': 2104, 'max_depth': 3, 'learning_rate': 0.0023131302678081446, 'gamma': 0.8, 'min_child_weight': 5, 'subsample': 0.6, 'colsample_bytree': 0.9, 'reg_alpha': 0.8, 'reg_lambda': 0.7000000000000001}. Best is trial 64 with value: 0.9018273292301814.\u001b[0m\n",
      "\u001b[32m[I 2021-11-23 09:03:12,920]\u001b[0m Trial 76 finished with value: 0.9001925934521826 and parameters: {'n_estimators': 2640, 'max_depth': 2, 'learning_rate': 0.0025642331466724133, 'gamma': 0.8, 'min_child_weight': 7, 'subsample': 0.6, 'colsample_bytree': 0.8, 'reg_alpha': 0.7000000000000001, 'reg_lambda': 0.7000000000000001}. Best is trial 64 with value: 0.9018273292301814.\u001b[0m\n",
      "\u001b[32m[I 2021-11-23 09:03:24,865]\u001b[0m Trial 77 finished with value: 0.8998390646547085 and parameters: {'n_estimators': 2630, 'max_depth': 2, 'learning_rate': 0.0024383329718571972, 'gamma': 0.8, 'min_child_weight': 5, 'subsample': 0.6, 'colsample_bytree': 0.8, 'reg_alpha': 0.8, 'reg_lambda': 0.7000000000000001}. Best is trial 64 with value: 0.9018273292301814.\u001b[0m\n",
      "\u001b[32m[I 2021-11-23 09:03:35,692]\u001b[0m Trial 78 finished with value: 0.607461106455151 and parameters: {'n_estimators': 2699, 'max_depth': 1, 'learning_rate': 0.0006880622902767723, 'gamma': 0.8, 'min_child_weight': 5, 'subsample': 0.7, 'colsample_bytree': 0.7, 'reg_alpha': 0.9, 'reg_lambda': 0.7000000000000001}. Best is trial 64 with value: 0.9018273292301814.\u001b[0m\n",
      "\u001b[32m[I 2021-11-23 09:03:46,392]\u001b[0m Trial 79 finished with value: 0.8668474021485503 and parameters: {'n_estimators': 2304, 'max_depth': 2, 'learning_rate': 0.001167503510518291, 'gamma': 0.9, 'min_child_weight': 5, 'subsample': 0.6, 'colsample_bytree': 0.8, 'reg_alpha': 0.8, 'reg_lambda': 0.6000000000000001}. Best is trial 64 with value: 0.9018273292301814.\u001b[0m\n",
      "\u001b[32m[I 2021-11-23 09:04:00,137]\u001b[0m Trial 80 finished with value: 0.8909419045982785 and parameters: {'n_estimators': 2161, 'max_depth': 2, 'learning_rate': 0.001726343166992624, 'gamma': 0.8, 'min_child_weight': 7, 'subsample': 0.6, 'colsample_bytree': 0.8, 'reg_alpha': 0.7000000000000001, 'reg_lambda': 0.7000000000000001}. Best is trial 64 with value: 0.9018273292301814.\u001b[0m\n",
      "\u001b[32m[I 2021-11-23 09:04:11,826]\u001b[0m Trial 81 finished with value: 0.9012290876025215 and parameters: {'n_estimators': 2467, 'max_depth': 3, 'learning_rate': 0.002451399534590378, 'gamma': 0.7000000000000001, 'min_child_weight': 7, 'subsample': 0.5, 'colsample_bytree': 0.9, 'reg_alpha': 0.7000000000000001, 'reg_lambda': 0.7000000000000001}. Best is trial 64 with value: 0.9018273292301814.\u001b[0m\n",
      "\u001b[32m[I 2021-11-23 09:04:22,793]\u001b[0m Trial 82 finished with value: 0.9013893140867064 and parameters: {'n_estimators': 2432, 'max_depth': 2, 'learning_rate': 0.0026191761554004407, 'gamma': 0.7000000000000001, 'min_child_weight': 7, 'subsample': 0.5, 'colsample_bytree': 0.9, 'reg_alpha': 0.7000000000000001, 'reg_lambda': 0.7000000000000001}. Best is trial 64 with value: 0.9018273292301814.\u001b[0m\n",
      "\u001b[32m[I 2021-11-23 09:04:35,846]\u001b[0m Trial 83 finished with value: 0.9019199253963722 and parameters: {'n_estimators': 3002, 'max_depth': 2, 'learning_rate': 0.002728818941826016, 'gamma': 0.8, 'min_child_weight': 7, 'subsample': 0.5, 'colsample_bytree': 0.9, 'reg_alpha': 0.7000000000000001, 'reg_lambda': 0.6000000000000001}. Best is trial 83 with value: 0.9019199253963722.\u001b[0m\n",
      "\u001b[32m[I 2021-11-23 09:04:52,706]\u001b[0m Trial 84 finished with value: 0.7310240316901941 and parameters: {'n_estimators': 2980, 'max_depth': 1, 'learning_rate': 0.0010795542672316614, 'gamma': 0.2, 'min_child_weight': 7, 'subsample': 0.5, 'colsample_bytree': 0.9, 'reg_alpha': 0.6000000000000001, 'reg_lambda': 0.6000000000000001}. Best is trial 83 with value: 0.9019199253963722.\u001b[0m\n",
      "\u001b[32m[I 2021-11-23 09:05:06,486]\u001b[0m Trial 85 finished with value: 0.9011650552414979 and parameters: {'n_estimators': 3044, 'max_depth': 2, 'learning_rate': 0.0018677276229079722, 'gamma': 0.9, 'min_child_weight': 7, 'subsample': 0.5, 'colsample_bytree': 0.9, 'reg_alpha': 0.6000000000000001, 'reg_lambda': 0.6000000000000001}. Best is trial 83 with value: 0.9019199253963722.\u001b[0m\n",
      "\u001b[32m[I 2021-11-23 09:05:22,329]\u001b[0m Trial 86 finished with value: 0.9017126028381071 and parameters: {'n_estimators': 3638, 'max_depth': 2, 'learning_rate': 0.0018197472976592534, 'gamma': 0.9, 'min_child_weight': 7, 'subsample': 0.5, 'colsample_bytree': 0.9, 'reg_alpha': 0.6000000000000001, 'reg_lambda': 0.6000000000000001}. Best is trial 83 with value: 0.9019199253963722.\u001b[0m\n",
      "\u001b[32m[I 2021-11-23 09:05:35,889]\u001b[0m Trial 87 finished with value: 0.9002605476040269 and parameters: {'n_estimators': 3013, 'max_depth': 2, 'learning_rate': 0.0016854196610607388, 'gamma': 0.9, 'min_child_weight': 7, 'subsample': 0.5, 'colsample_bytree': 0.9, 'reg_alpha': 0.6000000000000001, 'reg_lambda': 0.6000000000000001}. Best is trial 83 with value: 0.9019199253963722.\u001b[0m\n",
      "\u001b[32m[I 2021-11-23 09:05:57,557]\u001b[0m Trial 88 finished with value: 0.677146385411759 and parameters: {'n_estimators': 3489, 'max_depth': 1, 'learning_rate': 0.0006659184693736173, 'gamma': 0.9, 'min_child_weight': 7, 'subsample': 0.5, 'colsample_bytree': 0.9, 'reg_alpha': 0.6000000000000001, 'reg_lambda': 0.5}. Best is trial 83 with value: 0.9019199253963722.\u001b[0m\n",
      "\u001b[32m[I 2021-11-23 09:06:13,323]\u001b[0m Trial 89 finished with value: 0.9013790464993521 and parameters: {'n_estimators': 3760, 'max_depth': 2, 'learning_rate': 0.002919152743731902, 'gamma': 0.9, 'min_child_weight': 7, 'subsample': 0.5, 'colsample_bytree': 0.9, 'reg_alpha': 0.6000000000000001, 'reg_lambda': 0.6000000000000001}. Best is trial 83 with value: 0.9019199253963722.\u001b[0m\n",
      "\u001b[32m[I 2021-11-23 09:06:28,410]\u001b[0m Trial 90 finished with value: -0.20675393360808125 and parameters: {'n_estimators': 3649, 'max_depth': 1, 'learning_rate': 0.00011031591600884083, 'gamma': 0.9, 'min_child_weight': 7, 'subsample': 0.5, 'colsample_bytree': 0.9, 'reg_alpha': 0.6000000000000001, 'reg_lambda': 0.5}. Best is trial 83 with value: 0.9019199253963722.\u001b[0m\n"
     ]
    },
    {
     "name": "stderr",
     "output_type": "stream",
     "text": [
      "\u001b[32m[I 2021-11-23 09:06:45,585]\u001b[0m Trial 91 finished with value: 0.9012208440410743 and parameters: {'n_estimators': 3883, 'max_depth': 2, 'learning_rate': 0.0029385544635589927, 'gamma': 0.9, 'min_child_weight': 7, 'subsample': 0.5, 'colsample_bytree': 0.9, 'reg_alpha': 0.7000000000000001, 'reg_lambda': 0.6000000000000001}. Best is trial 83 with value: 0.9019199253963722.\u001b[0m\n",
      "\u001b[32m[I 2021-11-23 09:07:04,465]\u001b[0m Trial 92 finished with value: 0.900645333325518 and parameters: {'n_estimators': 4127, 'max_depth': 2, 'learning_rate': 0.001283063587699121, 'gamma': 0.9, 'min_child_weight': 7, 'subsample': 0.5, 'colsample_bytree': 0.9, 'reg_alpha': 0.6000000000000001, 'reg_lambda': 0.6000000000000001}. Best is trial 83 with value: 0.9019199253963722.\u001b[0m\n",
      "\u001b[32m[I 2021-11-23 09:07:22,007]\u001b[0m Trial 93 finished with value: 0.9011659849325401 and parameters: {'n_estimators': 3681, 'max_depth': 2, 'learning_rate': 0.003322100095572372, 'gamma': 0.9, 'min_child_weight': 7, 'subsample': 0.5, 'colsample_bytree': 0.9, 'reg_alpha': 0.7000000000000001, 'reg_lambda': 0.6000000000000001}. Best is trial 83 with value: 0.9019199253963722.\u001b[0m\n",
      "\u001b[32m[I 2021-11-23 09:07:39,266]\u001b[0m Trial 94 finished with value: 0.8951675540232172 and parameters: {'n_estimators': 3887, 'max_depth': 2, 'learning_rate': 0.0009670070540347196, 'gamma': 0.9, 'min_child_weight': 7, 'subsample': 0.5, 'colsample_bytree': 0.9, 'reg_alpha': 0.7000000000000001, 'reg_lambda': 0.6000000000000001}. Best is trial 83 with value: 0.9019199253963722.\u001b[0m\n",
      "\u001b[32m[I 2021-11-23 09:08:01,488]\u001b[0m Trial 95 finished with value: 0.799295481613719 and parameters: {'n_estimators': 3960, 'max_depth': 1, 'learning_rate': 0.0062847835594635245, 'gamma': 0.9, 'min_child_weight': 7, 'subsample': 0.5, 'colsample_bytree': 0.9, 'reg_alpha': 0.7000000000000001, 'reg_lambda': 0.6000000000000001}. Best is trial 83 with value: 0.9019199253963722.\u001b[0m\n",
      "\u001b[32m[I 2021-11-23 09:08:18,899]\u001b[0m Trial 96 finished with value: 0.9015613801840116 and parameters: {'n_estimators': 3709, 'max_depth': 2, 'learning_rate': 0.0027625122512327915, 'gamma': 0.9, 'min_child_weight': 7, 'subsample': 0.5, 'colsample_bytree': 0.9, 'reg_alpha': 0.7000000000000001, 'reg_lambda': 0.6000000000000001}. Best is trial 83 with value: 0.9019199253963722.\u001b[0m\n",
      "\u001b[32m[I 2021-11-23 09:08:35,649]\u001b[0m Trial 97 finished with value: 0.9012641178097558 and parameters: {'n_estimators': 3761, 'max_depth': 2, 'learning_rate': 0.00310484531874249, 'gamma': 0.9, 'min_child_weight': 7, 'subsample': 0.5, 'colsample_bytree': 0.9, 'reg_alpha': 0.7000000000000001, 'reg_lambda': 0.6000000000000001}. Best is trial 83 with value: 0.9019199253963722.\u001b[0m\n",
      "\u001b[32m[I 2021-11-23 09:08:54,302]\u001b[0m Trial 98 finished with value: 0.798229273792762 and parameters: {'n_estimators': 4398, 'max_depth': 1, 'learning_rate': 0.008715707399645474, 'gamma': 0.9, 'min_child_weight': 7, 'subsample': 0.5, 'colsample_bytree': 0.9, 'reg_alpha': 0.7000000000000001, 'reg_lambda': 0.5}. Best is trial 83 with value: 0.9019199253963722.\u001b[0m\n",
      "\u001b[32m[I 2021-11-23 09:09:17,946]\u001b[0m Trial 99 finished with value: 0.8921263819551049 and parameters: {'n_estimators': 4085, 'max_depth': 2, 'learning_rate': 0.014532691349186999, 'gamma': 0.8, 'min_child_weight': 7, 'subsample': 0.5, 'colsample_bytree': 0.9, 'reg_alpha': 0.7000000000000001, 'reg_lambda': 0.6000000000000001}. Best is trial 83 with value: 0.9019199253963722.\u001b[0m\n"
     ]
    }
   ],
   "source": [
    "study_xgb = optuna.create_study(direction = 'maximize')\n",
    "study_xgb.optimize(objective_xgb, n_trials=100)"
   ]
  },
  {
   "cell_type": "code",
   "execution_count": 33,
   "id": "dcdc83a1",
   "metadata": {
    "execution": {
     "iopub.execute_input": "2021-11-22T17:37:10.055830Z",
     "iopub.status.busy": "2021-11-22T17:37:10.054829Z",
     "iopub.status.idle": "2021-11-22T17:37:10.058874Z",
     "shell.execute_reply": "2021-11-22T17:37:10.059425Z",
     "shell.execute_reply.started": "2021-11-22T16:57:08.864504Z"
    },
    "papermill": {
     "duration": 0.099884,
     "end_time": "2021-11-22T17:37:10.059598",
     "exception": false,
     "start_time": "2021-11-22T17:37:09.959714",
     "status": "completed"
    },
    "tags": []
   },
   "outputs": [],
   "source": [
    "best_param_xgb = study_xgb.best_params"
   ]
  },
  {
   "cell_type": "code",
   "execution_count": 34,
   "id": "50dde83a",
   "metadata": {
    "execution": {
     "iopub.execute_input": "2021-11-22T17:37:10.270582Z",
     "iopub.status.busy": "2021-11-22T17:37:10.269553Z",
     "iopub.status.idle": "2021-11-22T17:37:10.271660Z",
     "shell.execute_reply": "2021-11-22T17:37:10.272147Z",
     "shell.execute_reply.started": "2021-11-22T16:57:08.866338Z"
    },
    "papermill": {
     "duration": 0.107369,
     "end_time": "2021-11-22T17:37:10.272321",
     "exception": false,
     "start_time": "2021-11-22T17:37:10.164952",
     "status": "completed"
    },
    "tags": []
   },
   "outputs": [],
   "source": [
    "def objective_rf(trial):\n",
    "    param={\n",
    "        \n",
    "        'max_depth' : trial.suggest_int('max_depth',2,10),\n",
    "        'n_estimators' : trial.suggest_int('n_estimators',100,3000)\n",
    "        \n",
    "    }\n",
    "    pipe = Pipeline(steps=[\n",
    "        ('step1',trf),\n",
    "        ('step2',StandardScaler()),\n",
    "        ('step3',RandomForestRegressor(**param))\n",
    "    ])\n",
    "    \n",
    "    pipe.fit(x_train,y_train)\n",
    "    \n",
    "    y_pred = pipe.predict(x_test)\n",
    "    \n",
    "    return r2_score(y_test,y_pred)\n",
    "    "
   ]
  },
  {
   "cell_type": "code",
   "execution_count": 35,
   "id": "0d0d8132",
   "metadata": {
    "execution": {
     "iopub.execute_input": "2021-11-22T17:37:10.482178Z",
     "iopub.status.busy": "2021-11-22T17:37:10.481238Z",
     "iopub.status.idle": "2021-11-22T17:43:05.450231Z",
     "shell.execute_reply": "2021-11-22T17:43:05.450721Z",
     "shell.execute_reply.started": "2021-11-22T16:57:08.867790Z"
    },
    "papermill": {
     "duration": 355.080668,
     "end_time": "2021-11-22T17:43:05.450928",
     "exception": false,
     "start_time": "2021-11-22T17:37:10.370260",
     "status": "completed"
    },
    "tags": []
   },
   "outputs": [
    {
     "name": "stderr",
     "output_type": "stream",
     "text": [
      "\u001b[32m[I 2021-11-23 09:09:18,229]\u001b[0m A new study created in memory with name: no-name-9d5dedbc-dd03-40ea-a7f3-7665736835df\u001b[0m\n",
      "\u001b[32m[I 2021-11-23 09:09:19,144]\u001b[0m Trial 0 finished with value: 0.8830797423410199 and parameters: {'max_depth': 10, 'n_estimators': 196}. Best is trial 0 with value: 0.8830797423410199.\u001b[0m\n",
      "\u001b[32m[I 2021-11-23 09:09:23,349]\u001b[0m Trial 1 finished with value: 0.8889169487654955 and parameters: {'max_depth': 8, 'n_estimators': 1646}. Best is trial 1 with value: 0.8889169487654955.\u001b[0m\n",
      "\u001b[32m[I 2021-11-23 09:09:27,457]\u001b[0m Trial 2 finished with value: 0.8909767162161509 and parameters: {'max_depth': 7, 'n_estimators': 1322}. Best is trial 2 with value: 0.8909767162161509.\u001b[0m\n",
      "\u001b[32m[I 2021-11-23 09:09:29,689]\u001b[0m Trial 3 finished with value: 0.8870332301023381 and parameters: {'max_depth': 9, 'n_estimators': 994}. Best is trial 2 with value: 0.8909767162161509.\u001b[0m\n",
      "\u001b[32m[I 2021-11-23 09:09:31,406]\u001b[0m Trial 4 finished with value: 0.8886513650632658 and parameters: {'max_depth': 8, 'n_estimators': 427}. Best is trial 2 with value: 0.8909767162161509.\u001b[0m\n",
      "\u001b[32m[I 2021-11-23 09:09:34,021]\u001b[0m Trial 5 finished with value: 0.8954445275791657 and parameters: {'max_depth': 5, 'n_estimators': 1316}. Best is trial 5 with value: 0.8954445275791657.\u001b[0m\n",
      "\u001b[32m[I 2021-11-23 09:09:36,606]\u001b[0m Trial 6 finished with value: 0.8657128285735725 and parameters: {'max_depth': 2, 'n_estimators': 1475}. Best is trial 5 with value: 0.8954445275791657.\u001b[0m\n",
      "\u001b[32m[I 2021-11-23 09:09:45,639]\u001b[0m Trial 7 finished with value: 0.8844728920874528 and parameters: {'max_depth': 10, 'n_estimators': 2970}. Best is trial 5 with value: 0.8954445275791657.\u001b[0m\n",
      "\u001b[32m[I 2021-11-23 09:09:51,593]\u001b[0m Trial 8 finished with value: 0.8954593222555188 and parameters: {'max_depth': 5, 'n_estimators': 2654}. Best is trial 8 with value: 0.8954593222555188.\u001b[0m\n",
      "\u001b[32m[I 2021-11-23 09:09:54,483]\u001b[0m Trial 9 finished with value: 0.8921674575764259 and parameters: {'max_depth': 3, 'n_estimators': 1241}. Best is trial 8 with value: 0.8954593222555188.\u001b[0m\n",
      "\u001b[32m[I 2021-11-23 09:10:01,110]\u001b[0m Trial 10 finished with value: 0.8958762619173235 and parameters: {'max_depth': 5, 'n_estimators': 2923}. Best is trial 10 with value: 0.8958762619173235.\u001b[0m\n",
      "\u001b[32m[I 2021-11-23 09:10:07,025]\u001b[0m Trial 11 finished with value: 0.8957518579937538 and parameters: {'max_depth': 5, 'n_estimators': 2767}. Best is trial 10 with value: 0.8958762619173235.\u001b[0m\n",
      "\u001b[32m[I 2021-11-23 09:10:11,342]\u001b[0m Trial 12 finished with value: 0.8976084034400512 and parameters: {'max_depth': 4, 'n_estimators': 2266}. Best is trial 12 with value: 0.8976084034400512.\u001b[0m\n",
      "\u001b[32m[I 2021-11-23 09:10:14,675]\u001b[0m Trial 13 finished with value: 0.892352874371924 and parameters: {'max_depth': 3, 'n_estimators': 2182}. Best is trial 12 with value: 0.8976084034400512.\u001b[0m\n",
      "\u001b[32m[I 2021-11-23 09:10:19,560]\u001b[0m Trial 14 finished with value: 0.8978072876969238 and parameters: {'max_depth': 4, 'n_estimators': 2236}. Best is trial 14 with value: 0.8978072876969238.\u001b[0m\n",
      "\u001b[32m[I 2021-11-23 09:10:24,116]\u001b[0m Trial 15 finished with value: 0.8920683395593542 and parameters: {'max_depth': 3, 'n_estimators': 2152}. Best is trial 14 with value: 0.8978072876969238.\u001b[0m\n",
      "\u001b[32m[I 2021-11-23 09:10:28,219]\u001b[0m Trial 16 finished with value: 0.8972866389264985 and parameters: {'max_depth': 4, 'n_estimators': 2187}. Best is trial 14 with value: 0.8978072876969238.\u001b[0m\n",
      "\u001b[32m[I 2021-11-23 09:10:31,852]\u001b[0m Trial 17 finished with value: 0.8944681934631751 and parameters: {'max_depth': 6, 'n_estimators': 1809}. Best is trial 14 with value: 0.8978072876969238.\u001b[0m\n",
      "\u001b[32m[I 2021-11-23 09:10:36,403]\u001b[0m Trial 18 finished with value: 0.8659222512103406 and parameters: {'max_depth': 2, 'n_estimators': 2434}. Best is trial 14 with value: 0.8978072876969238.\u001b[0m\n",
      "\u001b[32m[I 2021-11-23 09:10:40,698]\u001b[0m Trial 19 finished with value: 0.8965819650469434 and parameters: {'max_depth': 4, 'n_estimators': 1895}. Best is trial 14 with value: 0.8978072876969238.\u001b[0m\n",
      "\u001b[32m[I 2021-11-23 09:10:46,501]\u001b[0m Trial 20 finished with value: 0.8949123661531065 and parameters: {'max_depth': 6, 'n_estimators': 2449}. Best is trial 14 with value: 0.8978072876969238.\u001b[0m\n",
      "\u001b[32m[I 2021-11-23 09:10:50,052]\u001b[0m Trial 21 finished with value: 0.8972335661629045 and parameters: {'max_depth': 4, 'n_estimators': 2103}. Best is trial 14 with value: 0.8978072876969238.\u001b[0m\n",
      "\u001b[32m[I 2021-11-23 09:10:54,655]\u001b[0m Trial 22 finished with value: 0.8970306499233263 and parameters: {'max_depth': 4, 'n_estimators': 2431}. Best is trial 14 with value: 0.8978072876969238.\u001b[0m\n",
      "\u001b[32m[I 2021-11-23 09:10:59,060]\u001b[0m Trial 23 finished with value: 0.8973547994259866 and parameters: {'max_depth': 4, 'n_estimators': 1943}. Best is trial 14 with value: 0.8978072876969238.\u001b[0m\n",
      "\u001b[32m[I 2021-11-23 09:11:02,925]\u001b[0m Trial 24 finished with value: 0.892076315850523 and parameters: {'max_depth': 3, 'n_estimators': 1943}. Best is trial 14 with value: 0.8978072876969238.\u001b[0m\n",
      "\u001b[32m[I 2021-11-23 09:11:08,999]\u001b[0m Trial 25 finished with value: 0.894785984953718 and parameters: {'max_depth': 6, 'n_estimators': 2532}. Best is trial 14 with value: 0.8978072876969238.\u001b[0m\n",
      "\u001b[32m[I 2021-11-23 09:11:11,107]\u001b[0m Trial 26 finished with value: 0.8658484096015955 and parameters: {'max_depth': 2, 'n_estimators': 1695}. Best is trial 14 with value: 0.8978072876969238.\u001b[0m\n",
      "\u001b[32m[I 2021-11-23 09:11:13,470]\u001b[0m Trial 27 finished with value: 0.8972866332029694 and parameters: {'max_depth': 4, 'n_estimators': 998}. Best is trial 14 with value: 0.8978072876969238.\u001b[0m\n",
      "\u001b[32m[I 2021-11-23 09:11:16,815]\u001b[0m Trial 28 finished with value: 0.8921048749282219 and parameters: {'max_depth': 3, 'n_estimators': 2009}. Best is trial 14 with value: 0.8978072876969238.\u001b[0m\n",
      "\u001b[32m[I 2021-11-23 09:11:22,617]\u001b[0m Trial 29 finished with value: 0.89182721958043 and parameters: {'max_depth': 7, 'n_estimators': 2308}. Best is trial 14 with value: 0.8978072876969238.\u001b[0m\n",
      "\u001b[32m[I 2021-11-23 09:11:22,837]\u001b[0m Trial 30 finished with value: 0.8960068137972632 and parameters: {'max_depth': 5, 'n_estimators': 139}. Best is trial 14 with value: 0.8978072876969238.\u001b[0m\n",
      "\u001b[32m[I 2021-11-23 09:11:27,701]\u001b[0m Trial 31 finished with value: 0.8968654436231186 and parameters: {'max_depth': 4, 'n_estimators': 2240}. Best is trial 14 with value: 0.8978072876969238.\u001b[0m\n",
      "\u001b[32m[I 2021-11-23 09:11:31,651]\u001b[0m Trial 32 finished with value: 0.897118311174508 and parameters: {'max_depth': 4, 'n_estimators': 1731}. Best is trial 14 with value: 0.8978072876969238.\u001b[0m\n",
      "\u001b[32m[I 2021-11-23 09:11:38,030]\u001b[0m Trial 33 finished with value: 0.8947612235163165 and parameters: {'max_depth': 6, 'n_estimators': 2688}. Best is trial 14 with value: 0.8978072876969238.\u001b[0m\n",
      "\u001b[32m[I 2021-11-23 09:11:39,874]\u001b[0m Trial 34 finished with value: 0.8919822667663468 and parameters: {'max_depth': 3, 'n_estimators': 1472}. Best is trial 14 with value: 0.8978072876969238.\u001b[0m\n",
      "\u001b[32m[I 2021-11-23 09:11:45,114]\u001b[0m Trial 35 finished with value: 0.8956152842295558 and parameters: {'max_depth': 5, 'n_estimators': 2308}. Best is trial 14 with value: 0.8978072876969238.\u001b[0m\n",
      "\u001b[32m[I 2021-11-23 09:11:46,257]\u001b[0m Trial 36 finished with value: 0.8919961461751286 and parameters: {'max_depth': 7, 'n_estimators': 488}. Best is trial 14 with value: 0.8978072876969238.\u001b[0m\n",
      "\u001b[32m[I 2021-11-23 09:11:50,625]\u001b[0m Trial 37 finished with value: 0.8969977983903498 and parameters: {'max_depth': 4, 'n_estimators': 1982}. Best is trial 14 with value: 0.8978072876969238.\u001b[0m\n",
      "\u001b[32m[I 2021-11-23 09:11:53,598]\u001b[0m Trial 38 finished with value: 0.8653328467822955 and parameters: {'max_depth': 2, 'n_estimators': 1591}. Best is trial 14 with value: 0.8978072876969238.\u001b[0m\n",
      "\u001b[32m[I 2021-11-23 09:12:00,891]\u001b[0m Trial 39 finished with value: 0.8889435184831859 and parameters: {'max_depth': 8, 'n_estimators': 2585}. Best is trial 14 with value: 0.8978072876969238.\u001b[0m\n",
      "\u001b[32m[I 2021-11-23 09:12:06,847]\u001b[0m Trial 40 finished with value: 0.8955303501962489 and parameters: {'max_depth': 5, 'n_estimators': 2803}. Best is trial 14 with value: 0.8978072876969238.\u001b[0m\n",
      "\u001b[32m[I 2021-11-23 09:12:08,107]\u001b[0m Trial 41 finished with value: 0.8968703169899191 and parameters: {'max_depth': 4, 'n_estimators': 862}. Best is trial 14 with value: 0.8978072876969238.\u001b[0m\n"
     ]
    },
    {
     "name": "stderr",
     "output_type": "stream",
     "text": [
      "\u001b[32m[I 2021-11-23 09:12:11,320]\u001b[0m Trial 42 finished with value: 0.8971069428678783 and parameters: {'max_depth': 4, 'n_estimators': 1239}. Best is trial 14 with value: 0.8978072876969238.\u001b[0m\n",
      "\u001b[32m[I 2021-11-23 09:12:12,872]\u001b[0m Trial 43 finished with value: 0.891662663750091 and parameters: {'max_depth': 3, 'n_estimators': 983}. Best is trial 14 with value: 0.8978072876969238.\u001b[0m\n",
      "\u001b[32m[I 2021-11-23 09:12:13,698]\u001b[0m Trial 44 finished with value: 0.8944718857449813 and parameters: {'max_depth': 5, 'n_estimators': 549}. Best is trial 14 with value: 0.8978072876969238.\u001b[0m\n",
      "\u001b[32m[I 2021-11-23 09:12:14,126]\u001b[0m Trial 45 finished with value: 0.8965402401820004 and parameters: {'max_depth': 4, 'n_estimators': 304}. Best is trial 14 with value: 0.8978072876969238.\u001b[0m\n",
      "\u001b[32m[I 2021-11-23 09:12:18,603]\u001b[0m Trial 46 finished with value: 0.8923905636916123 and parameters: {'max_depth': 3, 'n_estimators': 2087}. Best is trial 14 with value: 0.8978072876969238.\u001b[0m\n",
      "\u001b[32m[I 2021-11-23 09:12:19,713]\u001b[0m Trial 47 finished with value: 0.8951102715331496 and parameters: {'max_depth': 5, 'n_estimators': 732}. Best is trial 14 with value: 0.8978072876969238.\u001b[0m\n",
      "\u001b[32m[I 2021-11-23 09:12:24,201]\u001b[0m Trial 48 finished with value: 0.8653282827581591 and parameters: {'max_depth': 2, 'n_estimators': 2342}. Best is trial 14 with value: 0.8978072876969238.\u001b[0m\n",
      "\u001b[32m[I 2021-11-23 09:12:28,797]\u001b[0m Trial 49 finished with value: 0.8844839249445591 and parameters: {'max_depth': 10, 'n_estimators': 1346}. Best is trial 14 with value: 0.8978072876969238.\u001b[0m\n",
      "\u001b[32m[I 2021-11-23 09:12:31,535]\u001b[0m Trial 50 finished with value: 0.8973241252743787 and parameters: {'max_depth': 4, 'n_estimators': 1822}. Best is trial 14 with value: 0.8978072876969238.\u001b[0m\n",
      "\u001b[32m[I 2021-11-23 09:12:35,596]\u001b[0m Trial 51 finished with value: 0.8972349009032345 and parameters: {'max_depth': 4, 'n_estimators': 1765}. Best is trial 14 with value: 0.8978072876969238.\u001b[0m\n",
      "\u001b[32m[I 2021-11-23 09:12:39,082]\u001b[0m Trial 52 finished with value: 0.8924853100919752 and parameters: {'max_depth': 3, 'n_estimators': 1862}. Best is trial 14 with value: 0.8978072876969238.\u001b[0m\n",
      "\u001b[32m[I 2021-11-23 09:12:43,072]\u001b[0m Trial 53 finished with value: 0.8952355289009384 and parameters: {'max_depth': 5, 'n_estimators': 2082}. Best is trial 14 with value: 0.8978072876969238.\u001b[0m\n",
      "\u001b[32m[I 2021-11-23 09:12:46,635]\u001b[0m Trial 54 finished with value: 0.8967819878651337 and parameters: {'max_depth': 4, 'n_estimators': 1463}. Best is trial 14 with value: 0.8978072876969238.\u001b[0m\n",
      "\u001b[32m[I 2021-11-23 09:12:49,833]\u001b[0m Trial 55 finished with value: 0.8961521223034538 and parameters: {'max_depth': 5, 'n_estimators': 1604}. Best is trial 14 with value: 0.8978072876969238.\u001b[0m\n",
      "\u001b[32m[I 2021-11-23 09:12:52,306]\u001b[0m Trial 56 finished with value: 0.8918995552151565 and parameters: {'max_depth': 3, 'n_estimators': 1112}. Best is trial 14 with value: 0.8978072876969238.\u001b[0m\n",
      "\u001b[32m[I 2021-11-23 09:12:56,932]\u001b[0m Trial 57 finished with value: 0.8972990615689789 and parameters: {'max_depth': 4, 'n_estimators': 2229}. Best is trial 14 with value: 0.8978072876969238.\u001b[0m\n",
      "\u001b[32m[I 2021-11-23 09:13:01,363]\u001b[0m Trial 58 finished with value: 0.8953154135096922 and parameters: {'max_depth': 5, 'n_estimators': 2204}. Best is trial 14 with value: 0.8978072876969238.\u001b[0m\n",
      "\u001b[32m[I 2021-11-23 09:13:05,397]\u001b[0m Trial 59 finished with value: 0.892397565453808 and parameters: {'max_depth': 3, 'n_estimators': 2483}. Best is trial 14 with value: 0.8978072876969238.\u001b[0m\n",
      "\u001b[32m[I 2021-11-23 09:13:09,631]\u001b[0m Trial 60 finished with value: 0.8971019133213921 and parameters: {'max_depth': 4, 'n_estimators': 1861}. Best is trial 14 with value: 0.8978072876969238.\u001b[0m\n",
      "\u001b[32m[I 2021-11-23 09:13:12,940]\u001b[0m Trial 61 finished with value: 0.897286535074231 and parameters: {'max_depth': 4, 'n_estimators': 2010}. Best is trial 14 with value: 0.8978072876969238.\u001b[0m\n",
      "\u001b[32m[I 2021-11-23 09:13:17,585]\u001b[0m Trial 62 finished with value: 0.8969240715502859 and parameters: {'max_depth': 4, 'n_estimators': 2358}. Best is trial 14 with value: 0.8978072876969238.\u001b[0m\n",
      "\u001b[32m[I 2021-11-23 09:13:22,957]\u001b[0m Trial 63 finished with value: 0.8956621248326468 and parameters: {'max_depth': 6, 'n_estimators': 2218}. Best is trial 14 with value: 0.8978072876969238.\u001b[0m\n",
      "\u001b[32m[I 2021-11-23 09:13:27,561]\u001b[0m Trial 64 finished with value: 0.8971788536399236 and parameters: {'max_depth': 4, 'n_estimators': 2035}. Best is trial 14 with value: 0.8978072876969238.\u001b[0m\n",
      "\u001b[32m[I 2021-11-23 09:13:31,411]\u001b[0m Trial 65 finished with value: 0.8918380449493423 and parameters: {'max_depth': 3, 'n_estimators': 2132}. Best is trial 14 with value: 0.8978072876969238.\u001b[0m\n",
      "\u001b[32m[I 2021-11-23 09:13:34,717]\u001b[0m Trial 66 finished with value: 0.8972456092060468 and parameters: {'max_depth': 4, 'n_estimators': 1943}. Best is trial 14 with value: 0.8978072876969238.\u001b[0m\n",
      "\u001b[32m[I 2021-11-23 09:13:38,495]\u001b[0m Trial 67 finished with value: 0.89565434869204 and parameters: {'max_depth': 5, 'n_estimators': 1680}. Best is trial 14 with value: 0.8978072876969238.\u001b[0m\n",
      "\u001b[32m[I 2021-11-23 09:13:43,412]\u001b[0m Trial 68 finished with value: 0.8975685673490762 and parameters: {'max_depth': 4, 'n_estimators': 2258}. Best is trial 14 with value: 0.8978072876969238.\u001b[0m\n",
      "\u001b[32m[I 2021-11-23 09:13:47,896]\u001b[0m Trial 69 finished with value: 0.892321876653782 and parameters: {'max_depth': 3, 'n_estimators': 2600}. Best is trial 14 with value: 0.8978072876969238.\u001b[0m\n",
      "\u001b[32m[I 2021-11-23 09:13:55,092]\u001b[0m Trial 70 finished with value: 0.8866444417964059 and parameters: {'max_depth': 9, 'n_estimators': 2362}. Best is trial 14 with value: 0.8978072876969238.\u001b[0m\n",
      "\u001b[32m[I 2021-11-23 09:14:00,746]\u001b[0m Trial 71 finished with value: 0.8969893287613365 and parameters: {'max_depth': 4, 'n_estimators': 2219}. Best is trial 14 with value: 0.8978072876969238.\u001b[0m\n",
      "\u001b[32m[I 2021-11-23 09:14:06,345]\u001b[0m Trial 72 finished with value: 0.8969260735331653 and parameters: {'max_depth': 4, 'n_estimators': 2267}. Best is trial 14 with value: 0.8978072876969238.\u001b[0m\n",
      "\u001b[32m[I 2021-11-23 09:14:11,966]\u001b[0m Trial 73 finished with value: 0.8946963394646096 and parameters: {'max_depth': 5, 'n_estimators': 2433}. Best is trial 14 with value: 0.8978072876969238.\u001b[0m\n",
      "\u001b[32m[I 2021-11-23 09:14:17,040]\u001b[0m Trial 74 finished with value: 0.8966303277115015 and parameters: {'max_depth': 4, 'n_estimators': 2145}. Best is trial 14 with value: 0.8978072876969238.\u001b[0m\n",
      "\u001b[32m[I 2021-11-23 09:14:19,636]\u001b[0m Trial 75 finished with value: 0.8924258239068135 and parameters: {'max_depth': 3, 'n_estimators': 1831}. Best is trial 14 with value: 0.8978072876969238.\u001b[0m\n",
      "\u001b[32m[I 2021-11-23 09:14:24,288]\u001b[0m Trial 76 finished with value: 0.8970515555679637 and parameters: {'max_depth': 4, 'n_estimators': 1948}. Best is trial 14 with value: 0.8978072876969238.\u001b[0m\n",
      "\u001b[32m[I 2021-11-23 09:14:31,238]\u001b[0m Trial 77 finished with value: 0.8954352181872497 and parameters: {'max_depth': 5, 'n_estimators': 2523}. Best is trial 14 with value: 0.8978072876969238.\u001b[0m\n",
      "\u001b[32m[I 2021-11-23 09:14:36,405]\u001b[0m Trial 78 finished with value: 0.8969554669256524 and parameters: {'max_depth': 4, 'n_estimators': 1770}. Best is trial 14 with value: 0.8978072876969238.\u001b[0m\n",
      "\u001b[32m[I 2021-11-23 09:14:43,624]\u001b[0m Trial 79 finished with value: 0.8943941422167522 and parameters: {'max_depth': 6, 'n_estimators': 2744}. Best is trial 14 with value: 0.8978072876969238.\u001b[0m\n",
      "\u001b[32m[I 2021-11-23 09:14:48,556]\u001b[0m Trial 80 finished with value: 0.8655518310503709 and parameters: {'max_depth': 2, 'n_estimators': 2402}. Best is trial 14 with value: 0.8978072876969238.\u001b[0m\n",
      "\u001b[32m[I 2021-11-23 09:14:53,453]\u001b[0m Trial 81 finished with value: 0.8972027661469357 and parameters: {'max_depth': 4, 'n_estimators': 2012}. Best is trial 14 with value: 0.8978072876969238.\u001b[0m\n",
      "\u001b[32m[I 2021-11-23 09:14:58,420]\u001b[0m Trial 82 finished with value: 0.8972680206030363 and parameters: {'max_depth': 4, 'n_estimators': 2074}. Best is trial 14 with value: 0.8978072876969238.\u001b[0m\n",
      "\u001b[32m[I 2021-11-23 09:15:01,972]\u001b[0m Trial 83 finished with value: 0.8920226092661324 and parameters: {'max_depth': 3, 'n_estimators': 1910}. Best is trial 14 with value: 0.8978072876969238.\u001b[0m\n",
      "\u001b[32m[I 2021-11-23 09:15:07,027]\u001b[0m Trial 84 finished with value: 0.8968136408564347 and parameters: {'max_depth': 4, 'n_estimators': 2261}. Best is trial 14 with value: 0.8978072876969238.\u001b[0m\n"
     ]
    },
    {
     "name": "stderr",
     "output_type": "stream",
     "text": [
      "\u001b[32m[I 2021-11-23 09:15:12,112]\u001b[0m Trial 85 finished with value: 0.8954480628125621 and parameters: {'max_depth': 5, 'n_estimators': 2180}. Best is trial 14 with value: 0.8978072876969238.\u001b[0m\n",
      "\u001b[32m[I 2021-11-23 09:15:16,853]\u001b[0m Trial 86 finished with value: 0.8971527642919671 and parameters: {'max_depth': 4, 'n_estimators': 2026}. Best is trial 14 with value: 0.8978072876969238.\u001b[0m\n",
      "\u001b[32m[I 2021-11-23 09:15:21,882]\u001b[0m Trial 87 finished with value: 0.8971897988512092 and parameters: {'max_depth': 4, 'n_estimators': 2134}. Best is trial 14 with value: 0.8978072876969238.\u001b[0m\n",
      "\u001b[32m[I 2021-11-23 09:15:25,116]\u001b[0m Trial 88 finished with value: 0.8922363362884889 and parameters: {'max_depth': 3, 'n_estimators': 1510}. Best is trial 14 with value: 0.8978072876969238.\u001b[0m\n",
      "\u001b[32m[I 2021-11-23 09:15:29,437]\u001b[0m Trial 89 finished with value: 0.8959485364579811 and parameters: {'max_depth': 5, 'n_estimators': 1989}. Best is trial 14 with value: 0.8978072876969238.\u001b[0m\n",
      "\u001b[32m[I 2021-11-23 09:15:34,381]\u001b[0m Trial 90 finished with value: 0.8965886889149963 and parameters: {'max_depth': 4, 'n_estimators': 2303}. Best is trial 14 with value: 0.8978072876969238.\u001b[0m\n",
      "\u001b[32m[I 2021-11-23 09:15:39,352]\u001b[0m Trial 91 finished with value: 0.8970781928421344 and parameters: {'max_depth': 4, 'n_estimators': 2062}. Best is trial 14 with value: 0.8978072876969238.\u001b[0m\n",
      "\u001b[32m[I 2021-11-23 09:15:44,368]\u001b[0m Trial 92 finished with value: 0.8971021136690167 and parameters: {'max_depth': 4, 'n_estimators': 2095}. Best is trial 14 with value: 0.8978072876969238.\u001b[0m\n",
      "\u001b[32m[I 2021-11-23 09:15:45,393]\u001b[0m Trial 93 finished with value: 0.892128407981948 and parameters: {'max_depth': 3, 'n_estimators': 689}. Best is trial 14 with value: 0.8978072876969238.\u001b[0m\n",
      "\u001b[32m[I 2021-11-23 09:15:50,404]\u001b[0m Trial 94 finished with value: 0.8974422094774743 and parameters: {'max_depth': 4, 'n_estimators': 1807}. Best is trial 14 with value: 0.8978072876969238.\u001b[0m\n",
      "\u001b[32m[I 2021-11-23 09:15:54,973]\u001b[0m Trial 95 finished with value: 0.8962807139882356 and parameters: {'max_depth': 5, 'n_estimators': 1672}. Best is trial 14 with value: 0.8978072876969238.\u001b[0m\n",
      "\u001b[32m[I 2021-11-23 09:15:58,347]\u001b[0m Trial 96 finished with value: 0.8967645607771426 and parameters: {'max_depth': 4, 'n_estimators': 1777}. Best is trial 14 with value: 0.8978072876969238.\u001b[0m\n",
      "\u001b[32m[I 2021-11-23 09:16:02,590]\u001b[0m Trial 97 finished with value: 0.8960258680798118 and parameters: {'max_depth': 5, 'n_estimators': 1855}. Best is trial 14 with value: 0.8978072876969238.\u001b[0m\n",
      "\u001b[32m[I 2021-11-23 09:16:06,537]\u001b[0m Trial 98 finished with value: 0.8966363289794577 and parameters: {'max_depth': 4, 'n_estimators': 1382}. Best is trial 14 with value: 0.8978072876969238.\u001b[0m\n",
      "\u001b[32m[I 2021-11-23 09:16:12,188]\u001b[0m Trial 99 finished with value: 0.8926405571475537 and parameters: {'max_depth': 7, 'n_estimators': 1932}. Best is trial 14 with value: 0.8978072876969238.\u001b[0m\n"
     ]
    }
   ],
   "source": [
    "study_rf = optuna.create_study(direction = 'maximize')\n",
    "study_rf.optimize(objective_rf, n_trials=100)\n"
   ]
  },
  {
   "cell_type": "code",
   "execution_count": 36,
   "id": "fd638959",
   "metadata": {
    "execution": {
     "iopub.execute_input": "2021-11-22T17:43:05.688152Z",
     "iopub.status.busy": "2021-11-22T17:43:05.687468Z",
     "iopub.status.idle": "2021-11-22T17:43:05.689567Z",
     "shell.execute_reply": "2021-11-22T17:43:05.690065Z",
     "shell.execute_reply.started": "2021-11-22T16:57:08.869326Z"
    },
    "papermill": {
     "duration": 0.12294,
     "end_time": "2021-11-22T17:43:05.690236",
     "exception": false,
     "start_time": "2021-11-22T17:43:05.567296",
     "status": "completed"
    },
    "tags": []
   },
   "outputs": [],
   "source": [
    "best_param_rf = study_rf.best_params"
   ]
  },
  {
   "cell_type": "markdown",
   "id": "22fc6e47",
   "metadata": {
    "papermill": {
     "duration": 0.116178,
     "end_time": "2021-11-22T17:43:05.921508",
     "exception": false,
     "start_time": "2021-11-22T17:43:05.805330",
     "status": "completed"
    },
    "tags": []
   },
   "source": [
    "Creating pipeline for each model with best parameters"
   ]
  },
  {
   "cell_type": "code",
   "execution_count": 37,
   "id": "7327783c",
   "metadata": {
    "execution": {
     "iopub.execute_input": "2021-11-22T17:43:06.158926Z",
     "iopub.status.busy": "2021-11-22T17:43:06.158164Z",
     "iopub.status.idle": "2021-11-22T17:43:06.159649Z",
     "shell.execute_reply": "2021-11-22T17:43:06.160228Z",
     "shell.execute_reply.started": "2021-11-22T17:13:45.754264Z"
    },
    "papermill": {
     "duration": 0.122387,
     "end_time": "2021-11-22T17:43:06.160412",
     "exception": false,
     "start_time": "2021-11-22T17:43:06.038025",
     "status": "completed"
    },
    "tags": []
   },
   "outputs": [],
   "source": [
    "pipe_cat = Pipeline(steps=[\n",
    "        ('step1',trf),\n",
    "        ('step2',StandardScaler()),\n",
    "        ('step3',cb.CatBoostRegressor(**best_param_cat,verbose=0))\n",
    "    ])"
   ]
  },
  {
   "cell_type": "code",
   "execution_count": 38,
   "id": "318ba190",
   "metadata": {
    "execution": {
     "iopub.execute_input": "2021-11-22T17:43:06.394051Z",
     "iopub.status.busy": "2021-11-22T17:43:06.393391Z",
     "iopub.status.idle": "2021-11-22T17:43:06.397526Z",
     "shell.execute_reply": "2021-11-22T17:43:06.397990Z",
     "shell.execute_reply.started": "2021-11-22T16:57:08.872536Z"
    },
    "papermill": {
     "duration": 0.122874,
     "end_time": "2021-11-22T17:43:06.398185",
     "exception": false,
     "start_time": "2021-11-22T17:43:06.275311",
     "status": "completed"
    },
    "tags": []
   },
   "outputs": [],
   "source": [
    "pipe_xgb = Pipeline(steps=[\n",
    "        ('step1',trf),\n",
    "        ('step2',StandardScaler()),\n",
    "        ('step3',xgb.XGBRegressor(**best_param_xgb))\n",
    "    ])"
   ]
  },
  {
   "cell_type": "code",
   "execution_count": 39,
   "id": "9610de6e",
   "metadata": {
    "execution": {
     "iopub.execute_input": "2021-11-22T17:43:06.635934Z",
     "iopub.status.busy": "2021-11-22T17:43:06.635282Z",
     "iopub.status.idle": "2021-11-22T17:43:06.636775Z",
     "shell.execute_reply": "2021-11-22T17:43:06.637331Z",
     "shell.execute_reply.started": "2021-11-22T16:57:08.874053Z"
    },
    "papermill": {
     "duration": 0.124525,
     "end_time": "2021-11-22T17:43:06.637500",
     "exception": false,
     "start_time": "2021-11-22T17:43:06.512975",
     "status": "completed"
    },
    "tags": []
   },
   "outputs": [],
   "source": [
    "pipe_rf = pipe = Pipeline(steps=[\n",
    "        ('step1',trf),\n",
    "        ('step2',StandardScaler()),\n",
    "        ('step3',RandomForestRegressor(**best_param_rf))\n",
    "    ])\n",
    "\n"
   ]
  },
  {
   "cell_type": "markdown",
   "id": "8b2b254c",
   "metadata": {
    "papermill": {
     "duration": 0.114898,
     "end_time": "2021-11-22T17:43:06.868166",
     "exception": false,
     "start_time": "2021-11-22T17:43:06.753268",
     "status": "completed"
    },
    "tags": []
   },
   "source": [
    "fitting and predicting using all the 3 pipelines"
   ]
  },
  {
   "cell_type": "code",
   "execution_count": 40,
   "id": "1a437a3f",
   "metadata": {
    "execution": {
     "iopub.execute_input": "2021-11-22T17:43:07.109053Z",
     "iopub.status.busy": "2021-11-22T17:43:07.108310Z",
     "iopub.status.idle": "2021-11-22T17:43:15.927972Z",
     "shell.execute_reply": "2021-11-22T17:43:15.926896Z",
     "shell.execute_reply.started": "2021-11-22T17:14:05.547790Z"
    },
    "papermill": {
     "duration": 8.944086,
     "end_time": "2021-11-22T17:43:15.928130",
     "exception": false,
     "start_time": "2021-11-22T17:43:06.984044",
     "status": "completed"
    },
    "tags": []
   },
   "outputs": [],
   "source": [
    "pipe_cat.fit(x_train,y_train)\n",
    "pipe_xgb.fit(x_train,y_train)\n",
    "pipe_rf.fit(x_train,y_train)\n",
    "\n",
    "y_pred_cat = pipe_cat.predict(x_test)\n",
    "y_pred_xgb = pipe_xgb.predict(x_test)\n",
    "y_pred_rf = pipe_rf.predict(x_test)"
   ]
  },
  {
   "cell_type": "markdown",
   "id": "12412e73",
   "metadata": {
    "papermill": {
     "duration": 0.115517,
     "end_time": "2021-11-22T17:43:16.158565",
     "exception": false,
     "start_time": "2021-11-22T17:43:16.043048",
     "status": "completed"
    },
    "tags": []
   },
   "source": [
    "R2_Score of each pipeline"
   ]
  },
  {
   "cell_type": "code",
   "execution_count": 41,
   "id": "bda9b573",
   "metadata": {
    "execution": {
     "iopub.execute_input": "2021-11-22T17:43:16.392574Z",
     "iopub.status.busy": "2021-11-22T17:43:16.391874Z",
     "iopub.status.idle": "2021-11-22T17:43:16.399531Z",
     "shell.execute_reply": "2021-11-22T17:43:16.399028Z",
     "shell.execute_reply.started": "2021-11-22T17:14:08.186792Z"
    },
    "papermill": {
     "duration": 0.125965,
     "end_time": "2021-11-22T17:43:16.399667",
     "exception": false,
     "start_time": "2021-11-22T17:43:16.273702",
     "status": "completed"
    },
    "tags": []
   },
   "outputs": [
    {
     "name": "stdout",
     "output_type": "stream",
     "text": [
      "cat 0.9057429310826464\n",
      "XGB 0.9019199253963722\n",
      "RF 0.8970827796481676\n"
     ]
    }
   ],
   "source": [
    "print(f'cat {r2_score(y_test,y_pred_cat)}')\n",
    "print(f'XGB {r2_score(y_test,y_pred_xgb)}')\n",
    "print(f'RF {r2_score(y_test,y_pred_rf)}')"
   ]
  },
  {
   "cell_type": "markdown",
   "id": "c19ae5ba",
   "metadata": {
    "papermill": {
     "duration": 0.116059,
     "end_time": "2021-11-22T17:43:16.630453",
     "exception": false,
     "start_time": "2021-11-22T17:43:16.514394",
     "status": "completed"
    },
    "tags": []
   },
   "source": [
    "* Blending all the 3 pipleines by weighted average. Here we have given more weightage to CatBoost model as it is giving high accuracy."
   ]
  },
  {
   "cell_type": "code",
   "execution_count": 42,
   "id": "f7f8080a",
   "metadata": {
    "execution": {
     "iopub.execute_input": "2021-11-22T17:43:16.863757Z",
     "iopub.status.busy": "2021-11-22T17:43:16.863173Z",
     "iopub.status.idle": "2021-11-22T17:43:16.866492Z",
     "shell.execute_reply": "2021-11-22T17:43:16.867054Z",
     "shell.execute_reply.started": "2021-11-22T16:57:08.878683Z"
    },
    "papermill": {
     "duration": 0.121899,
     "end_time": "2021-11-22T17:43:16.867228",
     "exception": false,
     "start_time": "2021-11-22T17:43:16.745329",
     "status": "completed"
    },
    "tags": []
   },
   "outputs": [],
   "source": [
    "y_final = (6*y_pred_cat + 2.5*y_pred_xgb+ 1.5*y_pred_rf)/10"
   ]
  },
  {
   "cell_type": "code",
   "execution_count": 43,
   "id": "8b4c5076",
   "metadata": {
    "execution": {
     "iopub.execute_input": "2021-11-22T17:43:17.103031Z",
     "iopub.status.busy": "2021-11-22T17:43:17.102419Z",
     "iopub.status.idle": "2021-11-22T17:43:17.104622Z",
     "shell.execute_reply": "2021-11-22T17:43:17.105092Z",
     "shell.execute_reply.started": "2021-11-22T16:57:08.880140Z"
    },
    "papermill": {
     "duration": 0.123261,
     "end_time": "2021-11-22T17:43:17.105257",
     "exception": false,
     "start_time": "2021-11-22T17:43:16.981996",
     "status": "completed"
    },
    "tags": []
   },
   "outputs": [
    {
     "name": "stdout",
     "output_type": "stream",
     "text": [
      "final 0.9053350564030835\n"
     ]
    }
   ],
   "source": [
    "print(f'final {r2_score(y_test,y_final)}')"
   ]
  },
  {
   "cell_type": "code",
   "execution_count": 44,
   "id": "bd3bfbeb",
   "metadata": {},
   "outputs": [],
   "source": [
    "import pickle\n",
    "pickle.dump(pipe_cat,open('pipe_cat.pkl','wb'))\n",
    "pickle.dump(pipe_xgb,open('pipe_xgb.pkl','wb'))\n",
    "pickle.dump(pipe_rf,open('pipe_rf.pkl','wb'))"
   ]
  },
  {
   "cell_type": "markdown",
   "id": "0bba8f62",
   "metadata": {
    "papermill": {
     "duration": 0.114711,
     "end_time": "2021-11-22T17:43:17.334257",
     "exception": false,
     "start_time": "2021-11-22T17:43:17.219546",
     "status": "completed"
    },
    "tags": []
   },
   "source": [
    "![](data:image/jpeg;base64,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)"
   ]
  }
 ],
 "metadata": {
  "kernelspec": {
   "display_name": "Python 3 (ipykernel)",
   "language": "python",
   "name": "python3"
  },
  "language_info": {
   "codemirror_mode": {
    "name": "ipython",
    "version": 3
   },
   "file_extension": ".py",
   "mimetype": "text/x-python",
   "name": "python",
   "nbconvert_exporter": "python",
   "pygments_lexer": "ipython3",
   "version": "3.8.10"
  },
  "papermill": {
   "default_parameters": {},
   "duration": 1391.981778,
   "end_time": "2021-11-22T17:43:18.362783",
   "environment_variables": {},
   "exception": null,
   "input_path": "__notebook__.ipynb",
   "output_path": "__notebook__.ipynb",
   "parameters": {},
   "start_time": "2021-11-22T17:20:06.381005",
   "version": "2.3.3"
  }
 },
 "nbformat": 4,
 "nbformat_minor": 5
}
